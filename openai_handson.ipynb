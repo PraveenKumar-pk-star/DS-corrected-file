{
  "nbformat": 4,
  "nbformat_minor": 0,
  "metadata": {
    "colab": {
      "provenance": [],
      "authorship_tag": "ABX9TyNwj/5pWenYituOOJvvQPr3",
      "include_colab_link": true
    },
    "kernelspec": {
      "name": "python3",
      "display_name": "Python 3"
    },
    "language_info": {
      "name": "python"
    }
  },
  "cells": [
    {
      "cell_type": "markdown",
      "metadata": {
        "id": "view-in-github",
        "colab_type": "text"
      },
      "source": [
        "<a href=\"https://colab.research.google.com/github/PraveenKumar-pk-star/DS-corrected-file/blob/main/openai_handson.ipynb\" target=\"_parent\"><img src=\"https://colab.research.google.com/assets/colab-badge.svg\" alt=\"Open In Colab\"/></a>"
      ]
    },
    {
      "cell_type": "code",
      "execution_count": null,
      "metadata": {
        "colab": {
          "base_uri": "https://localhost:8080/"
        },
        "id": "v37QiB8N_-qw",
        "outputId": "d22880e8-ad85-452e-e3ea-35ca0cf17ee1"
      },
      "outputs": [
        {
          "output_type": "stream",
          "name": "stdout",
          "text": [
            "Requirement already satisfied: openai in /usr/local/lib/python3.11/dist-packages (1.75.0)\n",
            "Requirement already satisfied: anyio<5,>=3.5.0 in /usr/local/lib/python3.11/dist-packages (from openai) (4.9.0)\n",
            "Requirement already satisfied: distro<2,>=1.7.0 in /usr/local/lib/python3.11/dist-packages (from openai) (1.9.0)\n",
            "Requirement already satisfied: httpx<1,>=0.23.0 in /usr/local/lib/python3.11/dist-packages (from openai) (0.28.1)\n",
            "Requirement already satisfied: jiter<1,>=0.4.0 in /usr/local/lib/python3.11/dist-packages (from openai) (0.9.0)\n",
            "Requirement already satisfied: pydantic<3,>=1.9.0 in /usr/local/lib/python3.11/dist-packages (from openai) (2.11.3)\n",
            "Requirement already satisfied: sniffio in /usr/local/lib/python3.11/dist-packages (from openai) (1.3.1)\n",
            "Requirement already satisfied: tqdm>4 in /usr/local/lib/python3.11/dist-packages (from openai) (4.67.1)\n",
            "Requirement already satisfied: typing-extensions<5,>=4.11 in /usr/local/lib/python3.11/dist-packages (from openai) (4.13.2)\n",
            "Requirement already satisfied: idna>=2.8 in /usr/local/lib/python3.11/dist-packages (from anyio<5,>=3.5.0->openai) (3.10)\n",
            "Requirement already satisfied: certifi in /usr/local/lib/python3.11/dist-packages (from httpx<1,>=0.23.0->openai) (2025.1.31)\n",
            "Requirement already satisfied: httpcore==1.* in /usr/local/lib/python3.11/dist-packages (from httpx<1,>=0.23.0->openai) (1.0.8)\n",
            "Requirement already satisfied: h11<0.15,>=0.13 in /usr/local/lib/python3.11/dist-packages (from httpcore==1.*->httpx<1,>=0.23.0->openai) (0.14.0)\n",
            "Requirement already satisfied: annotated-types>=0.6.0 in /usr/local/lib/python3.11/dist-packages (from pydantic<3,>=1.9.0->openai) (0.7.0)\n",
            "Requirement already satisfied: pydantic-core==2.33.1 in /usr/local/lib/python3.11/dist-packages (from pydantic<3,>=1.9.0->openai) (2.33.1)\n",
            "Requirement already satisfied: typing-inspection>=0.4.0 in /usr/local/lib/python3.11/dist-packages (from pydantic<3,>=1.9.0->openai) (0.4.0)\n"
          ]
        }
      ],
      "source": [
        "\n",
        "!pip install openai\n"
      ]
    },
    {
      "cell_type": "code",
      "source": [
        "from openai import OpenAI\n",
        "from getpass import getpass"
      ],
      "metadata": {
        "id": "VPZr-nRjAdQN"
      },
      "execution_count": null,
      "outputs": []
    },
    {
      "cell_type": "code",
      "source": [
        "f=getpass(\"Enter the getpass:\")\n"
      ],
      "metadata": {
        "colab": {
          "base_uri": "https://localhost:8080/"
        },
        "id": "4hPPuoREAsIu",
        "outputId": "bea7ad8d-4b82-4676-8e3e-15c6d4000cb3"
      },
      "execution_count": null,
      "outputs": [
        {
          "name": "stdout",
          "output_type": "stream",
          "text": [
            "Enter the getpass:··········\n"
          ]
        }
      ]
    },
    {
      "cell_type": "code",
      "source": [
        "OpenAI_key=f"
      ],
      "metadata": {
        "id": "Kn3PsmCsBncR"
      },
      "execution_count": null,
      "outputs": []
    },
    {
      "cell_type": "code",
      "source": [
        "client=OpenAI(api_key=OpenAI_key)"
      ],
      "metadata": {
        "id": "zgZW5HYqCd9_"
      },
      "execution_count": null,
      "outputs": []
    },
    {
      "cell_type": "code",
      "source": [
        "client.models.list()"
      ],
      "metadata": {
        "colab": {
          "base_uri": "https://localhost:8080/"
        },
        "id": "-3mJRR34DQdV",
        "outputId": "7cf62b3c-6a6d-4f68-c898-dda5d62df912"
      },
      "execution_count": null,
      "outputs": [
        {
          "output_type": "execute_result",
          "data": {
            "text/plain": [
              "SyncPage[Model](data=[Model(id='gpt-4o-audio-preview-2024-12-17', created=1734034239, object='model', owned_by='system'), Model(id='dall-e-3', created=1698785189, object='model', owned_by='system'), Model(id='dall-e-2', created=1698798177, object='model', owned_by='system'), Model(id='gpt-4o-audio-preview-2024-10-01', created=1727389042, object='model', owned_by='system'), Model(id='text-embedding-3-small', created=1705948997, object='model', owned_by='system'), Model(id='o4-mini', created=1744225351, object='model', owned_by='system'), Model(id='gpt-4.1-nano', created=1744321707, object='model', owned_by='system'), Model(id='gpt-4.1-nano-2025-04-14', created=1744321025, object='model', owned_by='system'), Model(id='gpt-4o-realtime-preview-2024-10-01', created=1727131766, object='model', owned_by='system'), Model(id='o4-mini-2025-04-16', created=1744133506, object='model', owned_by='system'), Model(id='gpt-4o-realtime-preview', created=1727659998, object='model', owned_by='system'), Model(id='babbage-002', created=1692634615, object='model', owned_by='system'), Model(id='gpt-4', created=1687882411, object='model', owned_by='openai'), Model(id='text-embedding-ada-002', created=1671217299, object='model', owned_by='openai-internal'), Model(id='text-embedding-3-large', created=1705953180, object='model', owned_by='system'), Model(id='gpt-4o-mini-audio-preview', created=1734387424, object='model', owned_by='system'), Model(id='gpt-4o-audio-preview', created=1727460443, object='model', owned_by='system'), Model(id='o1-preview-2024-09-12', created=1725648865, object='model', owned_by='system'), Model(id='gpt-4o-mini-realtime-preview', created=1734387380, object='model', owned_by='system'), Model(id='gpt-4.1-mini', created=1744318173, object='model', owned_by='system'), Model(id='gpt-4o-mini-realtime-preview-2024-12-17', created=1734112601, object='model', owned_by='system'), Model(id='gpt-3.5-turbo-instruct-0914', created=1694122472, object='model', owned_by='system'), Model(id='gpt-4o-mini-search-preview', created=1741391161, object='model', owned_by='system'), Model(id='gpt-4.1-mini-2025-04-14', created=1744317547, object='model', owned_by='system'), Model(id='chatgpt-4o-latest', created=1723515131, object='model', owned_by='system'), Model(id='davinci-002', created=1692634301, object='model', owned_by='system'), Model(id='gpt-3.5-turbo-1106', created=1698959748, object='model', owned_by='system'), Model(id='gpt-4o-search-preview', created=1741388720, object='model', owned_by='system'), Model(id='gpt-4-turbo', created=1712361441, object='model', owned_by='system'), Model(id='gpt-4o-realtime-preview-2024-12-17', created=1733945430, object='model', owned_by='system'), Model(id='gpt-3.5-turbo-instruct', created=1692901427, object='model', owned_by='system'), Model(id='gpt-3.5-turbo', created=1677610602, object='model', owned_by='openai'), Model(id='gpt-4-turbo-preview', created=1706037777, object='model', owned_by='system'), Model(id='gpt-4o-mini-search-preview-2025-03-11', created=1741390858, object='model', owned_by='system'), Model(id='gpt-4-0125-preview', created=1706037612, object='model', owned_by='system'), Model(id='gpt-4o-2024-11-20', created=1739331543, object='model', owned_by='system'), Model(id='whisper-1', created=1677532384, object='model', owned_by='openai-internal'), Model(id='gpt-4o-2024-05-13', created=1715368132, object='model', owned_by='system'), Model(id='gpt-4-turbo-2024-04-09', created=1712601677, object='model', owned_by='system'), Model(id='gpt-3.5-turbo-16k', created=1683758102, object='model', owned_by='openai-internal'), Model(id='o1-preview', created=1725648897, object='model', owned_by='system'), Model(id='gpt-4-0613', created=1686588896, object='model', owned_by='openai'), Model(id='gpt-4.5-preview', created=1740623059, object='model', owned_by='system'), Model(id='gpt-4.5-preview-2025-02-27', created=1740623304, object='model', owned_by='system'), Model(id='gpt-4o-search-preview-2025-03-11', created=1741388170, object='model', owned_by='system'), Model(id='omni-moderation-2024-09-26', created=1732734466, object='model', owned_by='system'), Model(id='o3-mini-2025-01-31', created=1738010200, object='model', owned_by='system'), Model(id='o3-mini', created=1737146383, object='model', owned_by='system'), Model(id='tts-1-hd', created=1699046015, object='model', owned_by='system'), Model(id='gpt-4o', created=1715367049, object='model', owned_by='system'), Model(id='tts-1-hd-1106', created=1699053533, object='model', owned_by='system'), Model(id='gpt-4o-mini', created=1721172741, object='model', owned_by='system'), Model(id='gpt-4o-2024-08-06', created=1722814719, object='model', owned_by='system'), Model(id='gpt-4.1', created=1744316542, object='model', owned_by='system'), Model(id='gpt-4o-transcribe', created=1742068463, object='model', owned_by='system'), Model(id='gpt-4.1-2025-04-14', created=1744315746, object='model', owned_by='system'), Model(id='o1-2024-12-17', created=1734326976, object='model', owned_by='system'), Model(id='gpt-4o-mini-2024-07-18', created=1721172717, object='model', owned_by='system'), Model(id='gpt-4o-mini-transcribe', created=1742068596, object='model', owned_by='system'), Model(id='o1-mini', created=1725649008, object='model', owned_by='system'), Model(id='gpt-4o-mini-audio-preview-2024-12-17', created=1734115920, object='model', owned_by='system'), Model(id='gpt-3.5-turbo-0125', created=1706048358, object='model', owned_by='system'), Model(id='o1-mini-2024-09-12', created=1725648979, object='model', owned_by='system'), Model(id='tts-1', created=1681940951, object='model', owned_by='openai-internal'), Model(id='gpt-4-1106-preview', created=1698957206, object='model', owned_by='system'), Model(id='gpt-4o-mini-tts', created=1742403959, object='model', owned_by='system'), Model(id='tts-1-1106', created=1699053241, object='model', owned_by='system'), Model(id='o1', created=1734375816, object='model', owned_by='system'), Model(id='o1-pro', created=1742251791, object='model', owned_by='system'), Model(id='o1-pro-2025-03-19', created=1742251504, object='model', owned_by='system'), Model(id='omni-moderation-latest', created=1731689265, object='model', owned_by='system')], object='list')"
            ]
          },
          "metadata": {},
          "execution_count": 10
        }
      ]
    },
    {
      "cell_type": "code",
      "source": [
        "response=client.chat.completions.create(model=\"o4-mini\",\n",
        "                                 messages=[{\"role\":\"user\",\n",
        "                                           \"content\":\"tell the hot news india today \"}])\n",
        "response"
      ],
      "metadata": {
        "id": "gYo4I9vPDrm2",
        "colab": {
          "base_uri": "https://localhost:8080/"
        },
        "outputId": "e9ddd2ba-c4d2-4e6a-bb0a-7bab9fb6e57d"
      },
      "execution_count": null,
      "outputs": [
        {
          "output_type": "execute_result",
          "data": {
            "text/plain": [
              "ChatCompletion(id='chatcmpl-BPrPWz4Li8EoUvJVliF6nAcJ5Dek0', choices=[Choice(finish_reason='stop', index=0, logprobs=None, message=ChatCompletionMessage(content='Here’s a quick roundup of the top stories making headlines in India today:\\n\\n1. Third Modi government takes shape  \\n   – Prime Minister Narendra Modi was sworn in for a historic third consecutive term on June 9. A cabinet expansion is expected in the coming days, with portfolios reportedly being finalised for NDA allies and fresh faces.\\n\\n2. Scorching heat‐wave grips North India  \\n   – Delhi and adjoining regions recorded temperatures touching 47 °C. The India Meteorological Department has issued red‐ and orange‐level alerts across UP, Rajasthan and Haryana, urging citizens to stay indoors during peak afternoon hours.\\n\\n3. Early monsoon brings relief to the south  \\n   – The southwest monsoon officially hit Kerala on June 5—about a day ahead of schedule. Heavy rains have begun easing the heat further south, but localized flooding and landslide warnings are in place for parts of Karnataka and Tamil Nadu.\\n\\n4. RBI holds key policy rate steady  \\n   – In its June review, the Reserve Bank of India kept the repo rate at 6.50 percent, citing sticky retail inflation near 5 percent. Governor Shaktikanta Das signalled close monitoring of global commodity shocks and domestic demand.\\n\\n5. Chandrayaan-3 continues lunar exploration  \\n   – ISRO’s Vikram lander and Pragyan rover remain active near the Moon’s south pole, transmitting valuable data on soil composition, surface temperatures and the presence of water-ice.\\n\\n6. India vs. Pakistan build-up for T20 World Cup  \\n   – The Men’s T20 World Cup opens in Dallas this week, and all eyes are on the marquee India–Pakistan fixture on June 9. Ticket demand has skyrocketed, and special charter flights are been organised for fans.\\n\\n7. Olympic hopes rise as Indian hockey qualifies  \\n   – Both the men’s and women’s hockey teams secured their spots for Paris 2024 by finishing atop their respective FIH Nations Cup groups. Preparations are now in full swing ahead of the Games.\\n\\n8. Farmers step up protests over MSP guarantees  \\n   – Agitations continue in Punjab and Haryana, where thousands of farmers are demanding a legal guarantee on minimum support prices for key crops. Talks with the Union agriculture ministry remain deadlocked.\\n\\n9. Border tensions flare in Ladakh sector  \\n   – Indian and Chinese patrols engaged in a brief stand‐off near the Pangong Tso lake last night. Both sides have since disengaged, but the Army says “vigilance remains high” along the Line of Actual Control.\\n\\n10. Heat‐relief measures rolled out in major cities  \\n   – Municipal corporations in Delhi, Mumbai and Kolkata have opened night shelters and set up water‐cooling stations. Public advisories recommend using masks and drinking at least 3–4 liters of water daily.\\n\\nStay tuned for updates as these stories evolve.', refusal=None, role='assistant', annotations=[], audio=None, function_call=None, tool_calls=None))], created=1745503210, model='o4-mini-2025-04-16', object='chat.completion', service_tier='default', system_fingerprint=None, usage=CompletionUsage(completion_tokens=1493, prompt_tokens=13, total_tokens=1506, completion_tokens_details=CompletionTokensDetails(accepted_prediction_tokens=0, audio_tokens=0, reasoning_tokens=896, rejected_prediction_tokens=0), prompt_tokens_details=PromptTokensDetails(audio_tokens=0, cached_tokens=0)))"
            ]
          },
          "metadata": {},
          "execution_count": 14
        }
      ]
    },
    {
      "cell_type": "code",
      "source": [
        "print(response.choices[0].message.content)"
      ],
      "metadata": {
        "colab": {
          "base_uri": "https://localhost:8080/"
        },
        "id": "-giugNIUGL2Z",
        "outputId": "42dbed28-9168-4973-e3bc-268d6dbde8bc"
      },
      "execution_count": null,
      "outputs": [
        {
          "output_type": "stream",
          "name": "stdout",
          "text": [
            "Here’s a quick roundup of the top stories making headlines in India today:\n",
            "\n",
            "1. Third Modi government takes shape  \n",
            "   – Prime Minister Narendra Modi was sworn in for a historic third consecutive term on June 9. A cabinet expansion is expected in the coming days, with portfolios reportedly being finalised for NDA allies and fresh faces.\n",
            "\n",
            "2. Scorching heat‐wave grips North India  \n",
            "   – Delhi and adjoining regions recorded temperatures touching 47 °C. The India Meteorological Department has issued red‐ and orange‐level alerts across UP, Rajasthan and Haryana, urging citizens to stay indoors during peak afternoon hours.\n",
            "\n",
            "3. Early monsoon brings relief to the south  \n",
            "   – The southwest monsoon officially hit Kerala on June 5—about a day ahead of schedule. Heavy rains have begun easing the heat further south, but localized flooding and landslide warnings are in place for parts of Karnataka and Tamil Nadu.\n",
            "\n",
            "4. RBI holds key policy rate steady  \n",
            "   – In its June review, the Reserve Bank of India kept the repo rate at 6.50 percent, citing sticky retail inflation near 5 percent. Governor Shaktikanta Das signalled close monitoring of global commodity shocks and domestic demand.\n",
            "\n",
            "5. Chandrayaan-3 continues lunar exploration  \n",
            "   – ISRO’s Vikram lander and Pragyan rover remain active near the Moon’s south pole, transmitting valuable data on soil composition, surface temperatures and the presence of water-ice.\n",
            "\n",
            "6. India vs. Pakistan build-up for T20 World Cup  \n",
            "   – The Men’s T20 World Cup opens in Dallas this week, and all eyes are on the marquee India–Pakistan fixture on June 9. Ticket demand has skyrocketed, and special charter flights are been organised for fans.\n",
            "\n",
            "7. Olympic hopes rise as Indian hockey qualifies  \n",
            "   – Both the men’s and women’s hockey teams secured their spots for Paris 2024 by finishing atop their respective FIH Nations Cup groups. Preparations are now in full swing ahead of the Games.\n",
            "\n",
            "8. Farmers step up protests over MSP guarantees  \n",
            "   – Agitations continue in Punjab and Haryana, where thousands of farmers are demanding a legal guarantee on minimum support prices for key crops. Talks with the Union agriculture ministry remain deadlocked.\n",
            "\n",
            "9. Border tensions flare in Ladakh sector  \n",
            "   – Indian and Chinese patrols engaged in a brief stand‐off near the Pangong Tso lake last night. Both sides have since disengaged, but the Army says “vigilance remains high” along the Line of Actual Control.\n",
            "\n",
            "10. Heat‐relief measures rolled out in major cities  \n",
            "   – Municipal corporations in Delhi, Mumbai and Kolkata have opened night shelters and set up water‐cooling stations. Public advisories recommend using masks and drinking at least 3–4 liters of water daily.\n",
            "\n",
            "Stay tuned for updates as these stories evolve.\n"
          ]
        }
      ]
    },
    {
      "cell_type": "code",
      "source": [],
      "metadata": {
        "id": "9zcvidtmGx3g"
      },
      "execution_count": null,
      "outputs": []
    }
  ]
}