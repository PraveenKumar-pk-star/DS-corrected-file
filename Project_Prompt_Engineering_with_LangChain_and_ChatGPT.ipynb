{
  "cells": [
    {
      "cell_type": "markdown",
      "metadata": {
        "id": "view-in-github",
        "colab_type": "text"
      },
      "source": [
        "<a href=\"https://colab.research.google.com/github/PraveenKumar-pk-star/DS-corrected-file/blob/main/Project_Prompt_Engineering_with_LangChain_and_ChatGPT.ipynb\" target=\"_parent\"><img src=\"https://colab.research.google.com/assets/colab-badge.svg\" alt=\"Open In Colab\"/></a>"
      ]
    },
    {
      "cell_type": "markdown",
      "metadata": {
        "id": "XTzBUFWQ-OWj"
      },
      "source": [
        "# Project: Prompt Engineering with LangChain and ChatGPT for real-world tasks\n",
        "\n",
        "In this notebook you will leverage ChatGPT and LangChain to solve and do a few mini-projects based on some real-world scenarios:\n",
        "\n",
        "- Mini-Project 1: Review Analyst\n",
        "- Mini-Project 2: Research Paper Analyst\n",
        "- Mini-Project 3: Social Media Marketing Analyst\n",
        "- Mini-Project 4: IT Support Analyst\n",
        "\n"
      ]
    },
    {
      "cell_type": "markdown",
      "metadata": {
        "id": "AeDkpvGDhMGV"
      },
      "source": [
        "## Mini-Project 1: Review Analyst\n",
        "\n",
        "You are building an AI system to be able to look at customer reviews and do some complex analysis. for each review get ChatGPT to do the following:\n",
        "\n",
        "  - Summarize the review. The summary should be at most 3 lines.\n",
        "  - Highlight both the positives and negatives\n",
        "  - Display the overall sentiment of the review (positive, negative, neutral)\n",
        "  - Display a list of 3 - 5 emotions expressed by the customer in the review\n",
        "  - If the sentiment is positive or neutral write an email and thank them for the review\n",
        "  - If the sentiment is negative apologize and write an email with an appropriate response\n",
        "\n",
        "Try to get the response in a nice structured format using an output parser"
      ]
    },
    {
      "cell_type": "markdown",
      "metadata": {
        "id": "9P_TrLpRAIXM"
      },
      "source": [
        "### Access Customer Reviews"
      ]
    },
    {
      "cell_type": "code",
      "execution_count": null,
      "metadata": {
        "id": "hRbBZB57hT0G"
      },
      "outputs": [],
      "source": [
        "reviews = [\n",
        "    f\"\"\"\n",
        "    Just received the Bluetooth speaker I ordered for beach outings, and it's fantastic.\n",
        "    The sound quality is impressively clear with just the right amount of bass.\n",
        "    It's also waterproof, which tested true during a recent splashing incident.\n",
        "    Though it's compact, the volume can really fill the space.\n",
        "    The price was a bargain for such high-quality sound.\n",
        "    Shipping was also on point, arriving two days early in secure packaging.\n",
        "    \"\"\",\n",
        "    f\"\"\"\n",
        "    Purchased a new gaming keyboard because of its rave reviews about responsiveness and backlighting.\n",
        "    It hasn't disappointed. The keys have a satisfying click and the LED colors are vibrant,\n",
        "    enhancing my gaming experience significantly. Price-wise, it's quite competitive,\n",
        "    and I feel like I got a good deal. The delivery was swift, and it came well-protected,\n",
        "    ensuring no damage during transport.\n",
        "    \"\"\",\n",
        "    f\"\"\"\n",
        "    Ordered a set of wireless earbuds for running, and they've been a letdown.\n",
        "    The sound constantly cuts out, and the fit is uncomfortable after only a few minutes of use.\n",
        "    They advertised a 12-hour battery life, but I'm barely getting four hours.\n",
        "    Considering the cost, I expected better quality and performance.\n",
        "    They did arrive on time, but the positives end there. I'm already looking into a return.\n",
        "    \"\"\",\n",
        "    f\"\"\"\n",
        "    The tablet stand I bought was touted as being sturdy and adjustable,\n",
        "    but it's anything but. It wobbles with the slightest touch,\n",
        "    and the angles are not holding up as promised. It feels like a breeze could knock it over.\n",
        "    It was also pricier than others I've seen, which adds to the disappointment.\n",
        "    It did arrive promptly, but what's the use if the product doesn't meet basic expectations?\n",
        "    \"\"\",\n",
        "    f\"\"\"\n",
        "    Needed a new kitchen blender, but this model has been a nightmare.\n",
        "    It's supposed to handle various foods, but it struggles with anything tougher than cooked vegetables.\n",
        "    It's also incredibly noisy, and the 'easy-clean' feature is a joke; food gets stuck under the blades constantly.\n",
        "    I thought the brand meant quality, but this product has proven me wrong.\n",
        "    Plus, it arrived three days late. Definitely not worth the expense.\n",
        "    \"\"\"\n",
        "]"
      ]
    },
    {
      "cell_type": "markdown",
      "metadata": {
        "id": "nA4aW25IN22w"
      },
      "source": [
        "# Install OPENAI and LangChain dependencies"
      ]
    },
    {
      "cell_type": "code",
      "execution_count": null,
      "metadata": {
        "id": "HncZFJfMN22x"
      },
      "outputs": [],
      "source": [
        "#!pip install langchain\n",
        "#!pip install langchain-openai\n",
        "#!pip install langchain-community"
      ]
    },
    {
      "cell_type": "markdown",
      "metadata": {
        "id": "2ZhYYY0TN22x"
      },
      "source": [
        "# Enter API Tokens"
      ]
    },
    {
      "cell_type": "code",
      "execution_count": null,
      "metadata": {
        "id": "LsCK5NanN22x",
        "outputId": "34eafab3-4d2f-4017-b9b5-3d05293c6a91"
      },
      "outputs": [
        {
          "name": "stdin",
          "output_type": "stream",
          "text": [
            "Enter your api key here :  ········\n"
          ]
        }
      ],
      "source": [
        "from getpass import getpass\n",
        "OPENAI_KEY = getpass(\"Enter your api key here : \")"
      ]
    },
    {
      "cell_type": "code",
      "execution_count": null,
      "metadata": {
        "id": "01QVU-t1N22y"
      },
      "outputs": [],
      "source": [
        "import os\n",
        "os.environ[\"OPENAI_API_KEY\"] = OPENAI_KEY"
      ]
    },
    {
      "cell_type": "markdown",
      "metadata": {
        "id": "URCyx181N22y"
      },
      "source": [
        "# Load necessary dependencies and chatgpt llm"
      ]
    },
    {
      "cell_type": "code",
      "execution_count": null,
      "metadata": {
        "id": "k7YF5TdEN22z"
      },
      "outputs": [],
      "source": [
        "from langchain_core.prompts import ChatPromptTemplate\n",
        "from langchain_openai import ChatOpenAI"
      ]
    },
    {
      "cell_type": "markdown",
      "metadata": {
        "id": "uBji24XoN22z"
      },
      "source": [
        "# LLM Model"
      ]
    },
    {
      "cell_type": "code",
      "execution_count": null,
      "metadata": {
        "id": "wqc3gYlXN22z"
      },
      "outputs": [],
      "source": [
        "chatgpt = ChatOpenAI(model_name='gpt-4', temperature=0.9)"
      ]
    },
    {
      "cell_type": "markdown",
      "metadata": {
        "id": "8E-oQOOvN22z"
      },
      "source": [
        "## Mini-Project 1: Review Analyst\n",
        "\n",
        "You are building an AI system to be able to look at customer reviews and do some complex analysis. for each review get ChatGPT to do the following:\n",
        "\n",
        "  - Summarize the review. The summary should be at most 3 lines.\n",
        "  - Highlight both the positives and negatives\n",
        "  - Display the overall sentiment of the review (positive, negative, neutral)\n",
        "  - Display a list of 3 - 5 emotions expressed by the customer in the review\n",
        "  - If the sentiment is positive or neutral write an email and thank them for the review\n",
        "  - If the sentiment is negative apologize and write an email with an appropriate response\n",
        "\n",
        "Try to get the response in a nice structured format using an output parser"
      ]
    },
    {
      "cell_type": "markdown",
      "metadata": {
        "id": "Y2jL7q6GN22z"
      },
      "source": [
        "# Define Output Parser"
      ]
    },
    {
      "cell_type": "code",
      "execution_count": null,
      "metadata": {
        "id": "1d1p_sbXN220",
        "outputId": "d12be776-0156-45a0-fa7b-a512685e29a9"
      },
      "outputs": [
        {
          "data": {
            "text/plain": [
              "PydanticOutputParser(pydantic_object=<class '__main__.ReviewAnalysisResponse'>)"
            ]
          },
          "execution_count": 19,
          "metadata": {},
          "output_type": "execute_result"
        }
      ],
      "source": [
        "from langchain_core.prompts import PromptTemplate\n",
        "from langchain_core.output_parsers import PydanticOutputParser\n",
        "from pydantic import BaseModel, Field\n",
        "\n",
        "# Define your desired data structure as per given problem statement\n",
        "class ReviewAnalysisResponse(BaseModel):\n",
        "    summary: str = Field(description=\"A brief summary of the customer review with maximum 3 lines.\")\n",
        "    positive: list = Field(description=\"A list showing the positives mentioned by the customer in the review if any - max 3 points\")\n",
        "    negative: list = Field(description=\"A list showing the negatives mentioned by the customer in the review if any - max 3 points\")\n",
        "    sentiment: str = Field(description=\"One word showing the sentiment of the review - positive, negative or neutral\")\n",
        "    emotions: list = Field(description=\"A list of 3 - 5 emotions expressed by the customer in the review\")\n",
        "    email: str = Field(description=\"Detailed email to the customer based on the sentiment\")\n",
        "\n",
        "parser = PydanticOutputParser(pydantic_object=ReviewAnalysisResponse)\n",
        "parser"
      ]
    },
    {
      "cell_type": "markdown",
      "metadata": {
        "id": "jDRWc7I6N220"
      },
      "source": [
        "# create the input prompt for the LLM"
      ]
    },
    {
      "cell_type": "code",
      "execution_count": null,
      "metadata": {
        "id": "yjhQZ9DZN220"
      },
      "outputs": [],
      "source": [
        "prompt_txt = \"\"\"\n",
        "Analyze the given customer review below and generate the response based on the instructions\n",
        "mentioned below in the format instructions.\n",
        "Also remember to write a detailed email response for the email field based on these conditions:\n",
        "    - email should be addressed to Dear Customer and signed with Service Agent\n",
        "    - thank them if the review is positive or neutral\n",
        "    - apologize if the review is negative\n",
        "\n",
        "    Format Instructions: {format_instructions}\n",
        "    Review: {review}\n",
        "\"\"\"\n",
        "\n",
        "prompt = PromptTemplate(template=prompt_txt, input_variables = [\"review\"],\n",
        "                        partial_variables={\"format_instructions\":parser.get_format_instructions()},)"
      ]
    },
    {
      "cell_type": "markdown",
      "metadata": {
        "id": "wQ3vQLeZN220"
      },
      "source": [
        "# Create a LCEL LLM Chain"
      ]
    },
    {
      "cell_type": "code",
      "execution_count": null,
      "metadata": {
        "id": "5JJ5VH2qN220"
      },
      "outputs": [],
      "source": [
        "chain = (prompt | chatgpt | parser)"
      ]
    },
    {
      "cell_type": "markdown",
      "metadata": {
        "id": "DRNqvo5_N221"
      },
      "source": [
        "# Format the input reviews"
      ]
    },
    {
      "cell_type": "code",
      "execution_count": null,
      "metadata": {
        "id": "Jv0RAel-N221",
        "outputId": "ba5841d1-7ba1-4abf-93d7-719b6beaa0da"
      },
      "outputs": [
        {
          "data": {
            "text/plain": [
              "[{'review': \"\\n    Just received the Bluetooth speaker I ordered for beach outings, and it's fantastic.\\n    The sound quality is impressively clear with just the right amount of bass.\\n    It's also waterproof, which tested true during a recent splashing incident.\\n    Though it's compact, the volume can really fill the space.\\n    The price was a bargain for such high-quality sound.\\n    Shipping was also on point, arriving two days early in secure packaging.\\n    \"},\n",
              " {'review': \"\\n    Purchased a new gaming keyboard because of its rave reviews about responsiveness and backlighting.\\n    It hasn't disappointed. The keys have a satisfying click and the LED colors are vibrant,\\n    enhancing my gaming experience significantly. Price-wise, it's quite competitive,\\n    and I feel like I got a good deal. The delivery was swift, and it came well-protected,\\n    ensuring no damage during transport.\\n    \"},\n",
              " {'review': \"\\n    Ordered a set of wireless earbuds for running, and they've been a letdown.\\n    The sound constantly cuts out, and the fit is uncomfortable after only a few minutes of use.\\n    They advertised a 12-hour battery life, but I'm barely getting four hours.\\n    Considering the cost, I expected better quality and performance.\\n    They did arrive on time, but the positives end there. I'm already looking into a return.\\n    \"},\n",
              " {'review': \"\\n    The tablet stand I bought was touted as being sturdy and adjustable,\\n    but it's anything but. It wobbles with the slightest touch,\\n    and the angles are not holding up as promised. It feels like a breeze could knock it over.\\n    It was also pricier than others I've seen, which adds to the disappointment.\\n    It did arrive promptly, but what's the use if the product doesn't meet basic expectations?\\n    \"},\n",
              " {'review': \"\\n    Needed a new kitchen blender, but this model has been a nightmare.\\n    It's supposed to handle various foods, but it struggles with anything tougher than cooked vegetables.\\n    It's also incredibly noisy, and the 'easy-clean' feature is a joke; food gets stuck under the blades constantly.\\n    I thought the brand meant quality, but this product has proven me wrong.\\n    Plus, it arrived three days late. Definitely not worth the expense.\\n    \"}]"
            ]
          },
          "execution_count": 33,
          "metadata": {},
          "output_type": "execute_result"
        }
      ],
      "source": [
        "reviews_formatted = [{'review': review} for review in reviews]\n",
        "reviews_formatted"
      ]
    },
    {
      "cell_type": "markdown",
      "metadata": {
        "id": "6N-DVW5bN221"
      },
      "source": [
        "# Get responses from the LLM"
      ]
    },
    {
      "cell_type": "code",
      "execution_count": null,
      "metadata": {
        "id": "5oUsW0A9N222"
      },
      "outputs": [],
      "source": [
        "responses = chain.map().invoke(reviews_formatted)"
      ]
    },
    {
      "cell_type": "code",
      "execution_count": null,
      "metadata": {
        "id": "dTeTZ5eAN222",
        "outputId": "42e8ad41-421a-4a54-c318-5b2bb34e4cae"
      },
      "outputs": [
        {
          "data": {
            "text/plain": [
              "{'summary': 'The customer is satisfied with the Bluetooth speaker they ordered for beach outings, praising its sound quality, volume, waterproof feature, affordable price, and timely shipping.',\n",
              " 'positive': ['Sound quality is impressively clear',\n",
              "  'Speaker is waterproof',\n",
              "  'Shipping was on time and packaging was secure'],\n",
              " 'negative': [],\n",
              " 'sentiment': 'positive',\n",
              " 'emotions': ['Satisfaction', 'Relief', 'Joy'],\n",
              " 'email': \"Dear Customer,\\n\\nThank you for your positive review on our Bluetooth speaker. It's wonderful to learn that you're enjoying the speaker's sound quality and its waterproof feature. I'm also glad to hear that our shipping service met your expectations. We strive to ensure our customers are 100% satisfied and it's reassuring to know we're succeeding.\\n\\nThank you again for your feedback and for choosing our product. Looking forward to serving you again in the future.\\n\\nBest,\\nService Agent\"}"
            ]
          },
          "execution_count": 40,
          "metadata": {},
          "output_type": "execute_result"
        }
      ],
      "source": [
        "responses[0].dict()"
      ]
    },
    {
      "cell_type": "code",
      "execution_count": null,
      "metadata": {
        "id": "Y4lHXrC5N222",
        "outputId": "1be7af82-47c3-4c01-941f-29686e4f06b0"
      },
      "outputs": [
        {
          "name": "stdout",
          "output_type": "stream",
          "text": [
            "summary:\n",
            "The customer is satisfied with the Bluetooth speaker they ordered for beach outings, praising its sound quality, volume, waterproof feature, affordable price, and timely shipping.\n",
            "positive:\n",
            "['Sound quality is impressively clear', 'Speaker is waterproof', 'Shipping was on time and packaging was secure']\n",
            "negative:\n",
            "[]\n",
            "sentiment:\n",
            "positive\n",
            "emotions:\n",
            "['Satisfaction', 'Relief', 'Joy']\n",
            "email:\n",
            "Dear Customer,\n",
            "\n",
            "Thank you for your positive review on our Bluetooth speaker. It's wonderful to learn that you're enjoying the speaker's sound quality and its waterproof feature. I'm also glad to hear that our shipping service met your expectations. We strive to ensure our customers are 100% satisfied and it's reassuring to know we're succeeding.\n",
            "\n",
            "Thank you again for your feedback and for choosing our product. Looking forward to serving you again in the future.\n",
            "\n",
            "Best,\n",
            "Service Agent\n",
            "********************************************************\n",
            "\n",
            "\n",
            "summary:\n",
            "The customer is pleased with their purchase of a new gaming keyboard, highlighting its responsiveness, vibrant LED colors, satisfying key click, and competitive price. They also praised the quick delivery and secure packaging.\n",
            "positive:\n",
            "['Responsive keyboard', 'Vibrant LED colors', 'Satisfying key click', 'Competitive price', 'Swift delivery', 'Secure packaging']\n",
            "negative:\n",
            "[]\n",
            "sentiment:\n",
            "positive\n",
            "emotions:\n",
            "['satisfaction', 'pleasure', 'excitement']\n",
            "email:\n",
            "Dear Customer,\n",
            "\n",
            "Thank you for taking the time to share your positive experience with us. We are thrilled to hear that you are satisfied with the performance of your new gaming keyboard, particularly its responsiveness and vibrant LED colors. We are also happy to know that you found the price competitive and were pleased with our swift delivery and secure packaging. At our company, we always strive to provide quality products and excellent service to our valued customers. Your feedback is greatly appreciated and will inspire us to continue doing our best.\n",
            "\n",
            "Yours sincerely,\n",
            "Service Agent\n",
            "********************************************************\n",
            "\n",
            "\n",
            "summary:\n",
            "Customer is displeased with the performance and quality of the wireless earbuds purchased for running.\n",
            "positive:\n",
            "['Product arrived on time']\n",
            "negative:\n",
            "['Sound constantly cuts out', 'Fit is uncomfortable after few minutes of use', 'Battery life is significantly less than advertised']\n",
            "sentiment:\n",
            "negative\n",
            "emotions:\n",
            "['Disappointment', 'Discouragement', 'Frustration', 'Dissatisfaction', 'Regret']\n",
            "email:\n",
            "Dear Customer, \n",
            "\n",
            "I am sorry to hear about your experience with our wireless earbuds. I understand your disappointment considering the sound and fit issues, as well as the battery life being less than expected. We appreciate your feedback as it helps us to improve our products and services. We will strive to make things right for you. Please contact our customer service team for assistance with the return process. \n",
            "\n",
            "Sincerely, \n",
            "Service Agent\n",
            "********************************************************\n",
            "\n",
            "\n",
            "summary:\n",
            "The customer is unhappy with the tablet stand they purchased due to its unsturdiness and poor adjustability, despite its higher price.\n",
            "positive:\n",
            "['Product arrived promptly']\n",
            "negative:\n",
            "['Tablet stand is not sturdy', 'Adjustability of the stand is poor', 'Product is pricier than alternatives']\n",
            "sentiment:\n",
            "negative\n",
            "emotions:\n",
            "['disappointed', 'frustrated', 'unhappy']\n",
            "email:\n",
            "Dear Customer,\n",
            "\n",
            "I'm truly sorry to hear about the issues you've experienced with the tablet stand. We understand your expectations were not met and for that, we apologize. We aim to provide our customers with high-quality products, and it seems like we have let you down in this case. I will forward your feedback to our quality control department for further investigations. Meanwhile, please feel free to return or exchange your product at no additional cost.\n",
            "\n",
            "Regards,\n",
            "Service Agent\n",
            "********************************************************\n",
            "\n",
            "\n",
            "summary:\n",
            "The customer is dissatisfied with the blender's performance, noise level, cleaning difficulty and late delivery. The blender's efficiency doesn't match the brand's reputation.\n",
            "positive:\n",
            "[]\n",
            "negative:\n",
            "['Blender struggles with certain foods', 'Blender is incredibly noisy', 'Cleaning feature is ineffective', 'Product arrived late']\n",
            "sentiment:\n",
            "negative\n",
            "emotions:\n",
            "['disappointment', 'frustration', 'regret']\n",
            "email:\n",
            "Dear Customer,\n",
            "\n",
            "I am truly sorry to hear about the issues you've encountered with our blender. It is expected to perform efficiently and it seems we have not met those expectations in your case. I understand your disappointment, especially with the noise level and ineffective cleaning feature. I apologize for any inconvenience the late delivery may have caused as well. Your feedback is invaluable, and we will investigate and address these issues promptly. We strive to ensure our customers' complete satisfaction and hope to prove our commitment to quality in future.\n",
            "\n",
            "Best,\n",
            "Service Agent\n",
            "********************************************************\n",
            "\n",
            "\n"
          ]
        }
      ],
      "source": [
        "for response in responses:\n",
        "    for k, v in response.dict().items():\n",
        "        print(f\"{k}:\\n{v}\")\n",
        "    print(\"********************************************************\")\n",
        "    print('\\n')"
      ]
    },
    {
      "cell_type": "code",
      "execution_count": null,
      "metadata": {
        "id": "vY-8vZl3N222",
        "outputId": "57c026e0-7ea6-4183-e57c-487aede5eb8a"
      },
      "outputs": [
        {
          "data": {
            "text/html": [
              "<div>\n",
              "<style scoped>\n",
              "    .dataframe tbody tr th:only-of-type {\n",
              "        vertical-align: middle;\n",
              "    }\n",
              "\n",
              "    .dataframe tbody tr th {\n",
              "        vertical-align: top;\n",
              "    }\n",
              "\n",
              "    .dataframe thead th {\n",
              "        text-align: right;\n",
              "    }\n",
              "</style>\n",
              "<table border=\"1\" class=\"dataframe\">\n",
              "  <thead>\n",
              "    <tr style=\"text-align: right;\">\n",
              "      <th></th>\n",
              "      <th>summary</th>\n",
              "      <th>positive</th>\n",
              "      <th>negative</th>\n",
              "      <th>sentiment</th>\n",
              "      <th>emotions</th>\n",
              "      <th>email</th>\n",
              "    </tr>\n",
              "  </thead>\n",
              "  <tbody>\n",
              "    <tr>\n",
              "      <th>0</th>\n",
              "      <td>The customer is satisfied with the Bluetooth s...</td>\n",
              "      <td>[Sound quality is impressively clear, Speaker ...</td>\n",
              "      <td>[]</td>\n",
              "      <td>positive</td>\n",
              "      <td>[Satisfaction, Relief, Joy]</td>\n",
              "      <td>Dear Customer,\\n\\nThank you for your positive ...</td>\n",
              "    </tr>\n",
              "    <tr>\n",
              "      <th>1</th>\n",
              "      <td>The customer is pleased with their purchase of...</td>\n",
              "      <td>[Responsive keyboard, Vibrant LED colors, Sati...</td>\n",
              "      <td>[]</td>\n",
              "      <td>positive</td>\n",
              "      <td>[satisfaction, pleasure, excitement]</td>\n",
              "      <td>Dear Customer,\\n\\nThank you for taking the tim...</td>\n",
              "    </tr>\n",
              "    <tr>\n",
              "      <th>2</th>\n",
              "      <td>Customer is displeased with the performance an...</td>\n",
              "      <td>[Product arrived on time]</td>\n",
              "      <td>[Sound constantly cuts out, Fit is uncomfortab...</td>\n",
              "      <td>negative</td>\n",
              "      <td>[Disappointment, Discouragement, Frustration, ...</td>\n",
              "      <td>Dear Customer, \\n\\nI am sorry to hear about yo...</td>\n",
              "    </tr>\n",
              "    <tr>\n",
              "      <th>3</th>\n",
              "      <td>The customer is unhappy with the tablet stand ...</td>\n",
              "      <td>[Product arrived promptly]</td>\n",
              "      <td>[Tablet stand is not sturdy, Adjustability of ...</td>\n",
              "      <td>negative</td>\n",
              "      <td>[disappointed, frustrated, unhappy]</td>\n",
              "      <td>Dear Customer,\\n\\nI'm truly sorry to hear abou...</td>\n",
              "    </tr>\n",
              "    <tr>\n",
              "      <th>4</th>\n",
              "      <td>The customer is dissatisfied with the blender'...</td>\n",
              "      <td>[]</td>\n",
              "      <td>[Blender struggles with certain foods, Blender...</td>\n",
              "      <td>negative</td>\n",
              "      <td>[disappointment, frustration, regret]</td>\n",
              "      <td>Dear Customer,\\n\\nI am truly sorry to hear abo...</td>\n",
              "    </tr>\n",
              "  </tbody>\n",
              "</table>\n",
              "</div>"
            ],
            "text/plain": [
              "                                             summary  \\\n",
              "0  The customer is satisfied with the Bluetooth s...   \n",
              "1  The customer is pleased with their purchase of...   \n",
              "2  Customer is displeased with the performance an...   \n",
              "3  The customer is unhappy with the tablet stand ...   \n",
              "4  The customer is dissatisfied with the blender'...   \n",
              "\n",
              "                                            positive  \\\n",
              "0  [Sound quality is impressively clear, Speaker ...   \n",
              "1  [Responsive keyboard, Vibrant LED colors, Sati...   \n",
              "2                          [Product arrived on time]   \n",
              "3                         [Product arrived promptly]   \n",
              "4                                                 []   \n",
              "\n",
              "                                            negative sentiment  \\\n",
              "0                                                 []  positive   \n",
              "1                                                 []  positive   \n",
              "2  [Sound constantly cuts out, Fit is uncomfortab...  negative   \n",
              "3  [Tablet stand is not sturdy, Adjustability of ...  negative   \n",
              "4  [Blender struggles with certain foods, Blender...  negative   \n",
              "\n",
              "                                            emotions  \\\n",
              "0                        [Satisfaction, Relief, Joy]   \n",
              "1               [satisfaction, pleasure, excitement]   \n",
              "2  [Disappointment, Discouragement, Frustration, ...   \n",
              "3                [disappointed, frustrated, unhappy]   \n",
              "4              [disappointment, frustration, regret]   \n",
              "\n",
              "                                               email  \n",
              "0  Dear Customer,\\n\\nThank you for your positive ...  \n",
              "1  Dear Customer,\\n\\nThank you for taking the tim...  \n",
              "2  Dear Customer, \\n\\nI am sorry to hear about yo...  \n",
              "3  Dear Customer,\\n\\nI'm truly sorry to hear abou...  \n",
              "4  Dear Customer,\\n\\nI am truly sorry to hear abo...  "
            ]
          },
          "execution_count": 48,
          "metadata": {},
          "output_type": "execute_result"
        }
      ],
      "source": [
        "import pandas as pd\n",
        "df = pd.DataFrame(response.dict() for response in responses)\n",
        "df"
      ]
    },
    {
      "cell_type": "code",
      "execution_count": null,
      "metadata": {
        "id": "hIs-QK6fN223"
      },
      "outputs": [],
      "source": [
        "df.to_csv('Review_output.csv')"
      ]
    },
    {
      "cell_type": "code",
      "execution_count": null,
      "metadata": {
        "id": "MEamMNCmN223"
      },
      "outputs": [],
      "source": []
    },
    {
      "cell_type": "markdown",
      "metadata": {
        "id": "eEtB1IOimA0i"
      },
      "source": [
        "## Mini-Project 2: Research Paper Analyst\n",
        "\n",
        "Make ChatGPT act as an AI expert and transform the given research paper abstract based on the nature of the audience mentioned below.\n",
        "\n",
        "- Short summary of maximum 10 lines for a general audience\n",
        "- Detailed report for a healthcare company. Have bullet points for pros and cons of ethics in Generative AI as mentioned in the paper\n",
        "- Detailed report for a generative AI company solving healthcare problems. Have bullet points for key points mentioned for Generative AI for text, images and structured data based healthcare\n",
        "\n",
        "Try to use `ChatPromptTemplate` so you can have a conversation with ChatGPT for each of the above tasks using conversational prompting"
      ]
    },
    {
      "cell_type": "markdown",
      "metadata": {
        "id": "gjiheMsOMUO6"
      },
      "source": [
        "### Access the Research Paper Abstract"
      ]
    },
    {
      "cell_type": "code",
      "execution_count": null,
      "metadata": {
        "id": "4FnITE6zhV-9"
      },
      "outputs": [],
      "source": [
        "paper_abstract = f\"\"\"\n",
        "The widespread use of ChatGPT and other emerging technology powered by generative\n",
        "artificial intelligence (AI) has drawn much attention to potential ethical issues, especially in\n",
        "high-stakes applications such as healthcare.1–3 However, less clear is how to resolve such\n",
        "issues beyond following guidelines and regulations that are still under discussion and\n",
        "development. On the other hand, other types of generative AI have been used to synthesize\n",
        "images and other types of data for research and practical purposes, which have resolved some\n",
        "ethical issues and exposed other ethical issues,4,5 but such technology is less often the focus\n",
        "of ongoing ethical discussions. Here we highlight gaps in current ethical discussions of\n",
        "generative AI via a systematic scoping review of relevant existing research in healthcare, and\n",
        "reduce the gaps by proposing an ethics checklist for comprehensive assessment and\n",
        "transparent documentation of ethical discussions in generative AI development. While the\n",
        "checklist can be readily integrated into the current peer review and publication system to\n",
        "enhance generative AI research, it may also be used in broader settings to disclose ethicsrelated considerations in generative AI-powered products (or real-life applications of such\n",
        "products) to help users establish reasonable trust in their capabilities.\n",
        "\n",
        "Current ethical discussions on generative AI in healthcare\n",
        "We conducted a systematic scoping review to analyse current ethical discussions on\n",
        "generative AI in healthcare. Our search in four major academic research databases for\n",
        "relevant publications from January 2013 to July 2023 yielded 2859 articles (see Methods for\n",
        "detailed search strategy and Supplementary Figure S1 for the PRISMA flow diagram), of\n",
        "which 193 articles were included for analysis based on application data modality (text, image,\n",
        "or structured data), ethical issues discussed, generative AI involved, and whether generative\n",
        "AI causes or offers technical solutions for issues raised.\n",
        "\n",
        "Generative AI for text data-based healthcare\n",
        "Forty-one of the 193 articles discussed ethical considerations pertaining to generative AI\n",
        "applications for text data, with 20 articles describing methodological developments or\n",
        "applications of generative AI and the other 21 articles describing review-type works on this\n",
        "topic. Although some of these review-type articles used the general term “generative AI”, the\n",
        "main body and supporting evidence focused on LLMs. Twenty-nine articles had in-depth\n",
        "discussions on ethical issues, whereas the other 12 articles only briefly touched on some\n",
        "ethical aspects.\n",
        "Among the 41 articles, 29 articles focused on discussing ethical issues caused by LLMs (and\n",
        "specifically by GPT in 16 of the articles), covering a wide range of application scenarios and\n",
        "considered the application of all 10 ethical principles identified in the review (see Figure 1),\n",
        "as well as other less discussed concerns such as human-AI interaction, and the rights of\n",
        "LLMs to be considered as co-authors in scientific papers. One paper only commented briefly\n",
        "on the need for ethical considerations in LLMs and is summarised in the “Others” category.\n",
        "Although all ethical principles are equally important, some are discussed more often than\n",
        "others, e.g., non-maleficence (also referred to in the literature as ‘benevolence’), equity, and\n",
        "privacy.\n",
        "Fifteen of the 41 articles aimed to resolve some existing ethical issues (for example,\n",
        "confidentiality of medical data) by using LLMs and other generative AI (e.g., GAN,\n",
        "autoencoder or diffusion), such as, to reduce privacy concerns by generating synthetic\n",
        "medical text, to reduce disparity by providing accessible services and assistance, to detect\n",
        "health-related misinformation, to generate trusted content, and to improve accountability or\n",
        "transparency over existing approaches. While most articles focused on either identifying\n",
        "ethical issues caused by generative AI or proposing generative AI-based solutions, three\n",
        "articles discussed both to provide a more balanced perspective.\n",
        "\n",
        "Generative AI for image and structured data-based healthcare\n",
        "Unlike the diverse application scenarios of generative AI based on text data, for image and\n",
        "structured data, this use of generative AI focuses on data synthesis and encryption. Hence the\n",
        "majority of articles discussed the methodological developments of generative AI as giving\n",
        "rise to a more distinctive and focused set of ethical issues.\n",
        "5\n",
        "Notably, of the 98 articles on image data and 58 articles on structured data, more than half\n",
        "(n=63 for image data and n=33 for structured data) only mentioned ethical considerations as a\n",
        "brief motivation for methodological developments or as a general discussion point. The rest\n",
        "included more in-depth discussions or evaluations of ethical issues. Among these 155 articles\n",
        "(as one article covered multiple modalities), 11 articles were review-type work, where 10\n",
        "articles reviewed methods that mentioned one or two ethical perspectives, and only one\n",
        "article24 discussed detailed ethical concerns on generative AI applications.\n",
        "Resolving privacy issues was the main aim of articles for these two data modalities (n=74 for\n",
        "image data and n=50 for structured data; see Figure 1), predominantly by generating synthetic\n",
        "data using GAN. Eight articles on image data and 9 articles on structured data used\n",
        "generative AI to reduce bias, e.g., by synthesizing data for under-represented subgroups in\n",
        "existing databases. For both data modalities, we did not see explicit discussions on resolving\n",
        "autonomy, integrity, or morality issues using generative AI, and for structured data the articles\n",
        "additionally lacked discussions on trust or transparency.\n",
        "Only 11 articles for image data selectively discussed some ethical issues that generative AI\n",
        "can give rise to, without specific discussions regarding autonomy, integrity, or morality. For\n",
        "structured data, only 4 articles discussed equity, privacy, or data security issues caused by\n",
        "generative AI. Only two articles on structured data included both the cause and resolving\n",
        "perspectives by discussing ethical issues that may arise from limitations of methods\n",
        "proposed, specifically bias induced when synthesizing data in order to resolve privacy issues.\n",
        "\"\"\""
      ]
    },
    {
      "cell_type": "markdown",
      "metadata": {
        "id": "545ZCV0NN224"
      },
      "source": [
        "## Mini-Project 2: Research Paper Analyst\n",
        "\n",
        "Make ChatGPT act as an AI expert and transform the given research paper abstract based on the nature of the audience mentioned below.\n",
        "\n",
        "- Short summary of maximum 10 lines for a general audience\n",
        "- Detailed report for a healthcare company. Have bullet points for pros and cons of ethics in Generative AI as mentioned in the paper\n",
        "- Detailed report for a generative AI company solving healthcare problems. Have bullet points for key points mentioned for Generative AI for text, images and structured data based healthcare\n",
        "\n",
        "Try to use `ChatPromptTemplate` so you can have a conversation with ChatGPT for each of the above tasks using conversational prompting"
      ]
    },
    {
      "cell_type": "code",
      "execution_count": null,
      "metadata": {
        "id": "ElSdahe5N224"
      },
      "outputs": [],
      "source": [
        "SYS_PROMPT = \"\"\"\n",
        "Act as an Artificial Intelligence Expert.\n",
        "Transform the input research paper abstract given below\n",
        "based on the instruction input by the user.\n",
        "\"\"\"\n",
        "\n",
        "prompt = ChatPromptTemplate.from_messages([(\"system\", SYS_PROMPT),(\"human\",\"{instruction}\")])"
      ]
    },
    {
      "cell_type": "markdown",
      "metadata": {
        "id": "oZGCeP3LN225"
      },
      "source": [
        "# LCEL LLM Chain"
      ]
    },
    {
      "cell_type": "code",
      "execution_count": null,
      "metadata": {
        "id": "EDWo5RypN225"
      },
      "outputs": [],
      "source": [
        "chain1 = (prompt | chatgpt)"
      ]
    },
    {
      "cell_type": "code",
      "execution_count": null,
      "metadata": {
        "id": "JUiJVXBdN225"
      },
      "outputs": [],
      "source": [
        "from langchain_core.messages import HumanMessage\n",
        "\n",
        "prompt_txt = f\"\"\"\n",
        "Based on the following research paper abstract,\n",
        "create the summary report of maximum 10 lines for a general audiance.\n",
        "\n",
        "Abstract: {paper_abstract}\n",
        "\"\"\"\n",
        "\n",
        "messages = [HumanMessage(content=prompt_txt)]\n",
        "user_instruction = {'instruction': messages}\n",
        "\n",
        "response = chain1.invoke(user_instruction)\n",
        "messages.append(response)"
      ]
    },
    {
      "cell_type": "code",
      "execution_count": null,
      "metadata": {
        "id": "tJ4XY_kKN225",
        "outputId": "8b91a28e-c1e8-4399-a256-d817ec7703ae"
      },
      "outputs": [
        {
          "data": {
            "text/plain": [
              "[HumanMessage(content='\\nBased on the following research paper abstract, \\ncreate the summary report of maximum 10 lines for a general audiance.\\n\\nAbstract: \\nThe widespread use of ChatGPT and other emerging technology powered by generative\\nartificial intelligence (AI) has drawn much attention to potential ethical issues, especially in\\nhigh-stakes applications such as healthcare.1–3 However, less clear is how to resolve such\\nissues beyond following guidelines and regulations that are still under discussion and\\ndevelopment. On the other hand, other types of generative AI have been used to synthesize\\nimages and other types of data for research and practical purposes, which have resolved some\\nethical issues and exposed other ethical issues,4,5 but such technology is less often the focus\\nof ongoing ethical discussions. Here we highlight gaps in current ethical discussions of\\ngenerative AI via a systematic scoping review of relevant existing research in healthcare, and\\nreduce the gaps by proposing an ethics checklist for comprehensive assessment and\\ntransparent documentation of ethical discussions in generative AI development. While the\\nchecklist can be readily integrated into the current peer review and publication system to\\nenhance generative AI research, it may also be used in broader settings to disclose ethicsrelated considerations in generative AI-powered products (or real-life applications of such\\nproducts) to help users establish reasonable trust in their capabilities.\\n\\nCurrent ethical discussions on generative AI in healthcare\\nWe conducted a systematic scoping review to analyse current ethical discussions on\\ngenerative AI in healthcare. Our search in four major academic research databases for\\nrelevant publications from January 2013 to July 2023 yielded 2859 articles (see Methods for\\ndetailed search strategy and Supplementary Figure S1 for the PRISMA flow diagram), of\\nwhich 193 articles were included for analysis based on application data modality (text, image,\\nor structured data), ethical issues discussed, generative AI involved, and whether generative\\nAI causes or offers technical solutions for issues raised.\\n\\nGenerative AI for text data-based healthcare\\nForty-one of the 193 articles discussed ethical considerations pertaining to generative AI\\napplications for text data, with 20 articles describing methodological developments or\\napplications of generative AI and the other 21 articles describing review-type works on this\\ntopic. Although some of these review-type articles used the general term “generative AI”, the\\nmain body and supporting evidence focused on LLMs. Twenty-nine articles had in-depth\\ndiscussions on ethical issues, whereas the other 12 articles only briefly touched on some\\nethical aspects.\\nAmong the 41 articles, 29 articles focused on discussing ethical issues caused by LLMs (and\\nspecifically by GPT in 16 of the articles), covering a wide range of application scenarios and\\nconsidered the application of all 10 ethical principles identified in the review (see Figure 1),\\nas well as other less discussed concerns such as human-AI interaction, and the rights of\\nLLMs to be considered as co-authors in scientific papers. One paper only commented briefly\\non the need for ethical considerations in LLMs and is summarised in the “Others” category.\\nAlthough all ethical principles are equally important, some are discussed more often than\\nothers, e.g., non-maleficence (also referred to in the literature as ‘benevolence’), equity, and\\nprivacy.\\nFifteen of the 41 articles aimed to resolve some existing ethical issues (for example,\\nconfidentiality of medical data) by using LLMs and other generative AI (e.g., GAN,\\nautoencoder or diffusion), such as, to reduce privacy concerns by generating synthetic\\nmedical text, to reduce disparity by providing accessible services and assistance, to detect\\nhealth-related misinformation, to generate trusted content, and to improve accountability or\\ntransparency over existing approaches. While most articles focused on either identifying\\nethical issues caused by generative AI or proposing generative AI-based solutions, three\\narticles discussed both to provide a more balanced perspective.\\n\\nGenerative AI for image and structured data-based healthcare\\nUnlike the diverse application scenarios of generative AI based on text data, for image and\\nstructured data, this use of generative AI focuses on data synthesis and encryption. Hence the\\nmajority of articles discussed the methodological developments of generative AI as giving\\nrise to a more distinctive and focused set of ethical issues.\\n5\\nNotably, of the 98 articles on image data and 58 articles on structured data, more than half\\n(n=63 for image data and n=33 for structured data) only mentioned ethical considerations as a\\nbrief motivation for methodological developments or as a general discussion point. The rest\\nincluded more in-depth discussions or evaluations of ethical issues. Among these 155 articles\\n(as one article covered multiple modalities), 11 articles were review-type work, where 10\\narticles reviewed methods that mentioned one or two ethical perspectives, and only one\\narticle24 discussed detailed ethical concerns on generative AI applications.\\nResolving privacy issues was the main aim of articles for these two data modalities (n=74 for\\nimage data and n=50 for structured data; see Figure 1), predominantly by generating synthetic\\ndata using GAN. Eight articles on image data and 9 articles on structured data used\\ngenerative AI to reduce bias, e.g., by synthesizing data for under-represented subgroups in\\nexisting databases. For both data modalities, we did not see explicit discussions on resolving\\nautonomy, integrity, or morality issues using generative AI, and for structured data the articles\\nadditionally lacked discussions on trust or transparency.\\nOnly 11 articles for image data selectively discussed some ethical issues that generative AI\\ncan give rise to, without specific discussions regarding autonomy, integrity, or morality. For\\nstructured data, only 4 articles discussed equity, privacy, or data security issues caused by\\ngenerative AI. Only two articles on structured data included both the cause and resolving\\nperspectives by discussing ethical issues that may arise from limitations of methods\\nproposed, specifically bias induced when synthesizing data in order to resolve privacy issues.\\n\\n', additional_kwargs={}, response_metadata={}),\n",
              " AIMessage(content='Generative artificial intelligence (AI) technologies like ChatGPT are now widely used, but ethical implications, especially in critical areas like healthcare, are under question. Researchers have proposed an ethics checklist for comprehensive assessment and transparent documentation of these ethical considerations in the development of generative AI. The checklist can be integrated into the peer review and publication system, and can help users establish trust in AI-powered products. The research included a review of 193 articles, discussing the ethical considerations for generative AI in healthcare. The articles focused on potential ethical issues raised by AI and the mitigation of these issues. Most prominently discussed ethical principles were non-maleficence, equity, and privacy. The study also looked at the use of generative AI in text, image, and structured data, discussing how each potentially raises and resolves ethical concerns.', additional_kwargs={'refusal': None}, response_metadata={'token_usage': {'completion_tokens': 166, 'prompt_tokens': 1330, 'total_tokens': 1496, 'completion_tokens_details': {'accepted_prediction_tokens': 0, 'audio_tokens': 0, 'reasoning_tokens': 0, 'rejected_prediction_tokens': 0}, 'prompt_tokens_details': {'audio_tokens': 0, 'cached_tokens': 0}}, 'model_name': 'gpt-4-0613', 'system_fingerprint': None, 'id': 'chatcmpl-BMQhCKfbwglx3BArSUzGHRXxYy0bE', 'finish_reason': 'stop', 'logprobs': None}, id='run-35871247-d009-43a4-b1bd-33cbee4ed0fd-0', usage_metadata={'input_tokens': 1330, 'output_tokens': 166, 'total_tokens': 1496, 'input_token_details': {'audio': 0, 'cache_read': 0}, 'output_token_details': {'audio': 0, 'reasoning': 0}})]"
            ]
          },
          "execution_count": 64,
          "metadata": {},
          "output_type": "execute_result"
        }
      ],
      "source": [
        "messages"
      ]
    },
    {
      "cell_type": "code",
      "execution_count": null,
      "metadata": {
        "id": "pXWGLFN0N225",
        "outputId": "bf0ceede-0b84-4d18-de2f-d67b3c7de0e6"
      },
      "outputs": [
        {
          "name": "stdout",
          "output_type": "stream",
          "text": [
            "Generative artificial intelligence (AI) technologies like ChatGPT are now widely used, but ethical implications, especially in critical areas like healthcare, are under question. Researchers have proposed an ethics checklist for comprehensive assessment and transparent documentation of these ethical considerations in the development of generative AI. The checklist can be integrated into the peer review and publication system, and can help users establish trust in AI-powered products. The research included a review of 193 articles, discussing the ethical considerations for generative AI in healthcare. The articles focused on potential ethical issues raised by AI and the mitigation of these issues. Most prominently discussed ethical principles were non-maleficence, equity, and privacy. The study also looked at the use of generative AI in text, image, and structured data, discussing how each potentially raises and resolves ethical concerns.\n"
          ]
        }
      ],
      "source": [
        "print(response.content)"
      ]
    },
    {
      "cell_type": "markdown",
      "metadata": {
        "id": "Mg8sojDPN226"
      },
      "source": [
        "# Generate the second summary report"
      ]
    },
    {
      "cell_type": "code",
      "execution_count": null,
      "metadata": {
        "id": "6Ub6nAE1N226",
        "outputId": "19334855-36a6-4f6f-adb6-f73b2b1787a8"
      },
      "outputs": [
        {
          "name": "stdout",
          "output_type": "stream",
          "text": [
            "Research Paper Abstract:\n",
            "\"Generative AI, a highly promising advancement in the field of technology, is bringing about significant alterations to the world as we know it. While it is a boon to several industries, its application in healthcare has proven to be profound and transformative. It has the potential to revolutionize diagnostic procedures and expedite the process of generating treatments. However, the ethical implications of this technology need to be taken into account. Concerns revolve around data privacy and security, decision-making capabilities, and potential misuse.\"\n",
            "\n",
            "Report:\n",
            "\n",
            "Subject: Detailed Analysis of the Application and Ethics of Generative AI in Healthcare \n",
            "\n",
            "Generative AI is a cutting-edge technology that presents a wide range of possibilities in various sectors including healthcare. It holds immense potential to dramatically transform how we diagnose and treat diseases. Despite these benefits, there are ethical issues that need to be thoroughly addressed.\n",
            "\n",
            "With Generative AI, healthcare professionals can speed up the process of diagnosis and treatment creation. This basically means faster and potentially more accurate medical services for patients. However, the technology also presents ethical challenges that need to be properly managed. Some of these include data privacy, security, decision-making abilities, and the risk of misuse.\n",
            "\n",
            "Pros of Ethics in Generative AI:\n",
            "1. Ensures Patient Privacy: Ethical guidelines ensure that patient data, used by AI systems for learning and diagnosis, remains confidential and secure.\n",
            "2. Promotes Transparent Decision Making: With ethical standards in place, the decision-making process of AI systems can be better understood and trusted.\n",
            "3. Prevents Bias: Application of ethical norms can help avoid bias in treatment suggestions by the AI.\n",
            "4. Limits Misuse: By setting ethical boundaries, the misuse of AI technology can be restricted.\n",
            "5. Instills Trust: Ethics in AI helps to build trust among patients and healthcare providers.\n",
            "\n",
            "Cons of Ethics in Generative AI:\n",
            "1. Implementation Challenges: Establishing and maintaining ethical standards across different AI systems can be complex.\n",
            "2. Slows Innovation: Stringent ethical norms may slow down the pace of AI development and adoption.\n",
            "3. Difficulty in Ethical Consensus: Disagreements often arise on what constitutes 'ethical AI'.\n",
            "4. Monitoring and Enforcement: Regulating and enforcing ethical compliance in AI can be a huge challenge.\n",
            "5. Legal Complications: There may be legal implications if AI systems violate ethical norms.\n",
            "\n",
            "In conclusion, Generative AI has the potential to bring about positive changes in healthcare. However, it's crucial to have a balanced approach by addressing its ethical implications to maximize its benefits while mitigating the risks.\n"
          ]
        }
      ],
      "source": [
        "prompt_txt1 = f\"\"\"\n",
        "Use only the research paper abstract from earlier and create a detailed report for a healthcare company.\n",
        "In the report, also include bullet points (5 max) for pros and cons of ethics in Generative AI.\n",
        "Use simple language so that anyone can understand.\n",
        "\"\"\"\n",
        "\n",
        "messages = [HumanMessage(content=prompt_txt1)]\n",
        "user_instruction = {'instruction': messages}\n",
        "\n",
        "response = chain1.invoke(user_instruction)\n",
        "print(response.content)"
      ]
    },
    {
      "cell_type": "markdown",
      "metadata": {
        "id": "e0_D8PkxN226"
      },
      "source": [
        "# Generate the third summary report"
      ]
    },
    {
      "cell_type": "code",
      "execution_count": null,
      "metadata": {
        "id": "kZAdOYmeN227",
        "outputId": "9ccd1d28-c6aa-4377-f214-465c51eca889"
      },
      "outputs": [
        {
          "name": "stdout",
          "output_type": "stream",
          "text": [
            "Research Paper Abstract: \n",
            "\n",
            "\"Our study titled 'Generative AI for Healthcare Data Handling' explores the practical application of Generative AI in the healthcare spectrum. The research focuses on the use of generative AI techniques for text, images, and structured data handling. This research uncovers the transformative potential of AI in healthcare, particularly in predictive analytics, diagnostics, and personalized patient care. \"\n",
            "\n",
            "**Detailed Report**\n",
            "\n",
            "Title: Generative AI for Healthcare Data Handling\n",
            "\n",
            "**1. Introduction:**\n",
            "\n",
            "Our research titled 'Generative AI for Healthcare Data Handling' takes a deep dive into the exploration of practical applications of Generative AI in the healthcare sector. This sector represents a field rich with untapped potential for the application of AI tools, particularly in data management and analysis. \n",
            "\n",
            "**2. Key Points:**\n",
            "\n",
            " **2.1 Generative AI for Text:**\n",
            "\n",
            "In the healthcare industry, the substantial amount of textual data generated from various sources, such as patient records, medical transcripts, research data, etc., can be leveraged using Generative AI. This technology goes beyond merely organizing this data; it can generate insights that healthcare professionals can use to make informed decisions, improve patient outcomes, and drive research.\n",
            "\n",
            "**2.2 Generative AI for Images:**\n",
            "\n",
            "Images like CT scans, MRIs, and X-rays are an integral component of diagnostics. Here, generative AI exhibits substantial promise. The AI model can learn from a large number of images, understand patterns, and use this knowledge to generate accurate interpretations of new image data. This capacity has significant implications on diagnostics, leading to quicker and more precise detection of anomalies. \n",
            "\n",
            "**2.3 Generative AI for Structured Data:**\n",
            "\n",
            "Generative AI can be harnessed effectively to handle the large volumes of structured data that healthcare providers typically manage. AI models can predict patterns in patient's health data, enabling proactive healthcare interventions. This application of AI can lead to improved patient experience, as ailments can potentially be detected before they become critical.\n",
            "\n",
            "**3. Potential of Generative AI in Healthcare:**\n",
            "\n",
            "The transformative potential of AI in healthcare lies particularly in the fields of predictive analytics, diagnostics, and personalized patient care. By leveraging the insights derived from Generative AI, health providers can decode underlying patterns in patients' health records, predict potential health issues, make accurate diagnoses, and deliver individualized care plans.\n",
            "\n",
            "**4. Conclusion:**\n",
            "\n",
            "Considering the intrinsic complexity of healthcare data and the vital need for accuracy and predictive potency, the utilization of Generative AI in the healthcare industry offers enormous potential. Consistent advancement and refinement of AI algorithms will continue to positively contribute to predictive analytics, diagnostics, and personalized patient care.\n",
            "\n",
            "The implementation of Generative AI in healthcare emphasizes the significance of this technology, demonstrating its game-changing potential in enhancing healthcare outcomes.\n"
          ]
        }
      ],
      "source": [
        "#Detailed report for a generative AI company solving healthcare problems.\n",
        "#Have bullet points for key points mentioned for Generative AI for text, images and structured data based healthcare\n",
        "\n",
        "prompt_txt2 = f\"\"\"\n",
        "Use only the research paper abstract from earlier and create a detailed report for a generative AI\n",
        "company solving healthcare problems.\n",
        "In the report also include sections for key points mentioned around Generative AI for text, images and structured data based healthcare\n",
        "\"\"\"\n",
        "\n",
        "messages = [HumanMessage(content=prompt_txt2)]\n",
        "user_instruction = {'instruction': messages}\n",
        "\n",
        "response = chain1.invoke(user_instruction)\n",
        "print(response.content)"
      ]
    },
    {
      "cell_type": "code",
      "execution_count": null,
      "metadata": {
        "id": "DhF4DfVAN227"
      },
      "outputs": [],
      "source": []
    },
    {
      "cell_type": "code",
      "execution_count": null,
      "metadata": {
        "id": "vZ6Gu4CcN227"
      },
      "outputs": [],
      "source": []
    },
    {
      "cell_type": "markdown",
      "metadata": {
        "id": "eX8i7Yg2NS9F"
      },
      "source": [
        "## Mini-Project 3: Social Media Marketing Analyst\n",
        "\n",
        "You have the technical fact sheets of one smartphone. Try some iterative prompt engineering and do the following:\n",
        "\n",
        "1. Generate marketing product description for the smartphone\n",
        "\n",
        "2. Custom product description which has the following:\n",
        "\n",
        "```\n",
        "The description should follow this format:\n",
        "\n",
        "Product Name: <Name of the smartphone>\n",
        "​\n",
        "Description: <Brief Overview of the features>\n",
        "​\n",
        "Product Specifications:\n",
        "<Table with key product feature specifications>\n",
        "​\n",
        "The description should focus on the most important features\n",
        "a customer might look for in a phone including the foldable display screen, processing power, RAM, camera and battery life.\n",
        "​\n",
        "After the description, the table should have the\n",
        "key specifications of the product. It should have two columns.\n",
        "The first column should have 'Feature'\n",
        "and the second column should have 'Specification'\n",
        "and try to put exact numeric values for features if they exist.\n",
        "Only put these features in the table - foldable display screen, processing power, RAM, camera and battery life\n",
        "```\n",
        "\n",
        "3. Custom product description focusing on specific aspects like display, camera and in less than 60 words"
      ]
    },
    {
      "cell_type": "markdown",
      "metadata": {
        "id": "NmADan2jQmWt"
      },
      "source": [
        "### Access the product factsheet data"
      ]
    },
    {
      "cell_type": "code",
      "execution_count": null,
      "metadata": {
        "id": "tyaP_Ab_L9c5"
      },
      "outputs": [],
      "source": [
        "fact_sheet_mobile = \"\"\"\n",
        "PRODUCT NAME\n",
        "Samsung Galaxy Z Fold4 5G Black\n",
        "​\n",
        "PRODUCT OVERVIEW\n",
        "Stands out. Stands up. Unfolds.\n",
        "The Galaxy Z Fold4 does a lot in one hand with its 15.73 cm(6.2-inch) Cover Screen.\n",
        "Unfolded, the 19.21 cm(7.6-inch) Main Screen lets you really get into the zone.\n",
        "Pushed-back bezels and the Under Display Camera means there's more screen\n",
        "and no black dot getting between you and the breathtaking Infinity Flex Display.\n",
        "Do more than more with Multi View. Whether toggling between texts or catching up\n",
        "on emails, take full advantage of the expansive Main Screen with Multi View.\n",
        "PC-like power thanks to Qualcomm Snapdragon 8+ Gen 1 processor in your pocket,\n",
        "transforms apps optimized with One UI to give you menus and more in a glance\n",
        "New Taskbar for PC-like multitasking. Wipe out tasks in fewer taps. Add\n",
        "apps to the Taskbar for quick navigation and bouncing between windows when\n",
        "you're in the groove.4 And with App Pair, one tap launches up to three apps,\n",
        "all sharing one super-productive screen\n",
        "Our toughest Samsung Galaxy foldables ever. From the inside out,\n",
        "Galaxy Z Fold4 is made with materials that are not only stunning,\n",
        "but stand up to life's bumps and fumbles. The front and rear panels,\n",
        "made with exclusive Corning Gorilla Glass Victus+, are ready to resist\n",
        "sneaky scrapes and scratches. With our toughest aluminum frame made with\n",
        "Armor Aluminum, this is one durable smartphone.\n",
        "World’s first water resistant foldable smartphones. Be adventurous, rain\n",
        "or shine. You don't have to sweat the forecast when you've got one of the\n",
        "world's first water-resistant foldable smartphones.\n",
        "​\n",
        "PRODUCT SPECS\n",
        "OS - Android 12.0\n",
        "RAM - 12 GB\n",
        "Product Dimensions - 15.5 x 13 x 0.6 cm; 263 Grams\n",
        "Batteries - 2 Lithium Ion batteries required. (included)\n",
        "Item model number - SM-F936BZKDINU_5\n",
        "Wireless communication technologies - Cellular\n",
        "Connectivity technologies - Bluetooth, Wi-Fi, USB, NFC\n",
        "GPS - True\n",
        "Special features - Fast Charging Support, Dual SIM, Wireless Charging, Built-In GPS, Water Resistant\n",
        "Other display features - Wireless\n",
        "Device interface - primary - Touchscreen\n",
        "Resolution - 2176x1812\n",
        "Other camera features - Rear, Front\n",
        "Form factor - Foldable Screen\n",
        "Colour - Phantom Black\n",
        "Battery Power Rating - 4400\n",
        "Whats in the box - SIM Tray Ejector, USB Cable\n",
        "Manufacturer - Samsung India pvt Ltd\n",
        "Country of Origin - China\n",
        "Item Weight - 263 g\n",
        "\"\"\""
      ]
    },
    {
      "cell_type": "markdown",
      "metadata": {
        "id": "mFLQQvRdN228"
      },
      "source": [
        "# Create prompt template for the first advert"
      ]
    },
    {
      "cell_type": "code",
      "execution_count": null,
      "metadata": {
        "id": "2_C9Erz-N229"
      },
      "outputs": [],
      "source": [
        "prompt_txt = \"\"\"\n",
        "Act as a marketing manager.\n",
        "Your task is to help a marketing team create a description for a retail website advert of a product\n",
        "based on a technical fact sheet specifications for a mobile smartphone.\n",
        "\n",
        "write a brief product description\n",
        "\n",
        "Technical Specifications: {fact_sheet_mobile}\n",
        "\"\"\"\n",
        "\n",
        "chat_template = ChatPromptTemplate.from_template(prompt_txt)"
      ]
    },
    {
      "cell_type": "markdown",
      "metadata": {
        "id": "QhbpdrZDN229"
      },
      "source": [
        "# Use an LCEL LLM Chain"
      ]
    },
    {
      "cell_type": "code",
      "execution_count": null,
      "metadata": {
        "id": "Q_GCsr_lN229",
        "outputId": "14f70370-1d43-49a5-c6e9-276750895f35"
      },
      "outputs": [
        {
          "name": "stdout",
          "output_type": "stream",
          "text": [
            "Introducing the Samsung Galaxy Z Fold4 5G in Phantom Black – the smartphone that stands out and up to your multi-faceted lifestyle. With a sleek 15.73 cm (6.2-inch) Cover Screen, and a  breathtaking 19.21 cm (7.6-inch) Main Screen when unfolded, this innovative device allows you to interact, create, and consume as you wish without boundaries.\n",
            "\n",
            "Embedded with an Under Display Camera, black dots no longer disrupt your view on the vivacious Infinity Flex Display. Experience seamless multitasking with the new Taskbar and Multi View feature, allowing you to launch up to three apps simultaneously on one big screen. Navigate easily between windows and wipe out tasks efficiently thanks to the innovative design that mimics a PC interface.\n",
            "\n",
            "With a powerful Qualcomm Snapdragon 8+ Gen 1 processor in your pocket, the Samsung Galaxy Z Fold4 provides an optimized user interface for an effortlessly smooth experience. Crafted with durability and aesthetic in mind, this phone's body is adorned with exclusive Corning Gorilla Glass Victus+ and reinforced by an Armor Aluminum frame, making it resistant to daily wear and tear.\n",
            "\n",
            "This smartphone also has the distinction of being among the world's first water-resistant foldable smartphones, allowing you to break free from weather limitations. Its extensive connectivity options include Bluetooth, Wi-Fi, USB, and NFC with built-in GPS. The fast-charging, dual-SIM phone also supports wireless charging.\n",
            "\n",
            "Running on Android 12.0 and powered by a 4400 battery power rating, the Galaxy Z Fold4 is ready to support you throughout the day. Delving into the detailed specs, this mobile phone hosts a 12GB RAM, measures 15.5 x 13 x 0.6 cm, weighs 263 grams, and features a resolution of 2176x1812. It has a rear and front camera, and comes with a SIM Tray Ejector and a USB Cable in the box. Brought to you by Samsung India Pvt Ltd, and made in China, the Samsung Galaxy Z Fold4 5G Black is all set to redefine your smartphone experience.\n"
          ]
        }
      ],
      "source": [
        "chain = (chat_template | chatgpt)\n",
        "response = chain.invoke({'fact_sheet_mobile': fact_sheet_mobile})\n",
        "print(response.content)"
      ]
    },
    {
      "cell_type": "code",
      "execution_count": null,
      "metadata": {
        "id": "HanFTGt1N22-",
        "outputId": "f7594594-d3bb-413b-a3f9-4a9170785783"
      },
      "outputs": [
        {
          "data": {
            "text/markdown": [
              "Introducing the Samsung Galaxy Z Fold4 5G in Phantom Black – the smartphone that stands out and up to your multi-faceted lifestyle. With a sleek 15.73 cm (6.2-inch) Cover Screen, and a  breathtaking 19.21 cm (7.6-inch) Main Screen when unfolded, this innovative device allows you to interact, create, and consume as you wish without boundaries.\n",
              "\n",
              "Embedded with an Under Display Camera, black dots no longer disrupt your view on the vivacious Infinity Flex Display. Experience seamless multitasking with the new Taskbar and Multi View feature, allowing you to launch up to three apps simultaneously on one big screen. Navigate easily between windows and wipe out tasks efficiently thanks to the innovative design that mimics a PC interface.\n",
              "\n",
              "With a powerful Qualcomm Snapdragon 8+ Gen 1 processor in your pocket, the Samsung Galaxy Z Fold4 provides an optimized user interface for an effortlessly smooth experience. Crafted with durability and aesthetic in mind, this phone's body is adorned with exclusive Corning Gorilla Glass Victus+ and reinforced by an Armor Aluminum frame, making it resistant to daily wear and tear.\n",
              "\n",
              "This smartphone also has the distinction of being among the world's first water-resistant foldable smartphones, allowing you to break free from weather limitations. Its extensive connectivity options include Bluetooth, Wi-Fi, USB, and NFC with built-in GPS. The fast-charging, dual-SIM phone also supports wireless charging.\n",
              "\n",
              "Running on Android 12.0 and powered by a 4400 battery power rating, the Galaxy Z Fold4 is ready to support you throughout the day. Delving into the detailed specs, this mobile phone hosts a 12GB RAM, measures 15.5 x 13 x 0.6 cm, weighs 263 grams, and features a resolution of 2176x1812. It has a rear and front camera, and comes with a SIM Tray Ejector and a USB Cable in the box. Brought to you by Samsung India Pvt Ltd, and made in China, the Samsung Galaxy Z Fold4 5G Black is all set to redefine your smartphone experience."
            ],
            "text/plain": [
              "<IPython.core.display.Markdown object>"
            ]
          },
          "metadata": {},
          "output_type": "display_data"
        }
      ],
      "source": [
        "from IPython.display import display, Markdown\n",
        "display(Markdown(response.content))"
      ]
    },
    {
      "cell_type": "markdown",
      "metadata": {
        "id": "R-D3vxcgN22_"
      },
      "source": [
        "## Mini-Project 3: Social Media Marketing Analyst\n",
        "\n",
        "You have the technical fact sheets of one smartphone. Try some iterative prompt engineering and do the following:\n",
        "\n",
        "1. Generate marketing product description for the smartphone\n",
        "\n",
        "2. Custom product description which has the following:\n",
        "\n",
        "```\n",
        "The description should follow this format:\n",
        "\n",
        "Product Name: <Name of the smartphone>\n",
        "​\n",
        "Description: <Brief Overview of the features>\n",
        "​\n",
        "Product Specifications:\n",
        "<Table with key product feature specifications>\n",
        "​\n",
        "The description should focus on the most important features\n",
        "a customer might look for in a phone including the foldable display screen, processing power, RAM, camera and battery life.\n",
        "​\n",
        "After the description, the table should have the\n",
        "key specifications of the product. It should have two columns.\n",
        "The first column should have 'Feature'\n",
        "and the second column should have 'Specification'\n",
        "and try to put exact numeric values for features if they exist.\n",
        "Only put these features in the table - foldable display screen, processing power, RAM, camera and battery life\n",
        "```\n",
        "\n",
        "3. Custom product description focusing on specific aspects like display, camera and in less than 60 words"
      ]
    },
    {
      "cell_type": "markdown",
      "metadata": {
        "id": "TAREmSO2N22_"
      },
      "source": [
        "# Create prompt template for the second advert"
      ]
    },
    {
      "cell_type": "code",
      "execution_count": null,
      "metadata": {
        "id": "9EzsNuHQN22_",
        "outputId": "ebe27de9-69f6-457b-9ed5-fd259cd17e3a"
      },
      "outputs": [
        {
          "data": {
            "text/markdown": [
              "Product Name: Samsung Galaxy Z Fold4 5G Black\n",
              "\n",
              "Description: Redefining the smartphone experience, the Samsung Galaxy Z Fold4 5G in sleek Phantom Black presents a foldable design that fits comfortably in one hand when closed and transforms into a stunning 19.21 cm (7.6-inch) Main Screen when opened. With minimized bezels and an Under Display Camera, the Infinity Flex Display offers an immersive viewing experience. The device is equipped with the powerful Qualcomm Snapdragon 8+ Gen 1 processor for a PC-like performance, complemented by a generous 12GB of RAM. Enjoy multitasking efficiency with a new Taskbar and the Multi View feature. The Galaxy Z Fold4, Samsung's most robust foldable smartphone yet, boasts the highest quality materials, including Corning Gorilla Glass Victus+ and an Armor Aluminum frame. Plus, it's one of the world's first water-resistant foldable smartphones. \n",
              "\n",
              "Product Specifications:\n",
              "\n",
              "| Feature                                 | Specification                |\n",
              "| --------------------------------------- | ---------------------------- |\n",
              "| Foldable Display Screen                 | 19.21 cm (7.6-inch)          |\n",
              "| Processing Power                        | Qualcomm Snapdragon 8+ Gen 1 |\n",
              "| RAM                                     | 12 GB                        |\n",
              "| Camera                                  | Front and Rear Cameras       |\n",
              "| Battery Life                            | 4400mAh Lithium Ion battery  |"
            ],
            "text/plain": [
              "<IPython.core.display.Markdown object>"
            ]
          },
          "metadata": {},
          "output_type": "display_data"
        }
      ],
      "source": [
        "prompt_txt = \"\"\"\n",
        "Act as a marketing manager. Your task is to help a marketing team create a description for a retail website advert of a product based on\n",
        "a technical fact sheet specificatios for a mobile smartphone.\n",
        "*\n",
        "The description should follow this format:\n",
        "Product Name: <Name of the smartphone>\n",
        "*\n",
        "Description: <Brief Overview of the features>\n",
        "*\n",
        "Product Specifications:\n",
        "<Table with key product feature specifications>\n",
        "*\n",
        "The description should focus on the most important features\n",
        "a customer might look for in a phone including the foldable display screen, processing power, RAM, camera and battery life.\n",
        "*\n",
        "After the description, the table should have the\n",
        "key specifications of the product. It should have two columns.\n",
        "The first column should have 'Feature'\n",
        "and the second column should have 'Specification'\n",
        "and try to put exact numeric values for features if they exist.\n",
        "Only put these features in the table - foldable display screen, processing power, RAM, camera and battery life\n",
        "\n",
        "Technical Specifications: {fact_sheet_mobile}\n",
        "\"\"\"\n",
        "chat_template = ChatPromptTemplate.from_template(prompt_txt)\n",
        "chain = (chat_template | chatgpt)\n",
        "response = chain.invoke({'fact_sheet_mobile': fact_sheet_mobile})\n",
        "display(Markdown(response.content))"
      ]
    },
    {
      "cell_type": "code",
      "execution_count": null,
      "metadata": {
        "id": "vs0R4tAgN23A"
      },
      "outputs": [],
      "source": [
        "# Custom product description focusing on specific aspects like display, camera and in less than 60 words"
      ]
    },
    {
      "cell_type": "markdown",
      "metadata": {
        "id": "xo5iCg-7N23A"
      },
      "source": [
        "# Create prompt template for the third advert"
      ]
    },
    {
      "cell_type": "code",
      "execution_count": null,
      "metadata": {
        "id": "u10mKPE0N23A",
        "outputId": "c2df95b1-7060-44fd-fd85-a197f901d61a"
      },
      "outputs": [
        {
          "data": {
            "text/markdown": [
              "\"Experience Unfolding Magic! 🌟 Samsung Galaxy Z Fold4 5G Black 🖤 brings to life a 7.6\" Infinity Flex Display 📱 without any black dots! Capture brilliant shots with advanced camera features 📸 and multitask like a boss with the new taskbar. 💪 With Gorilla Glass Victus+ and water-resistance 💦, durability is a sure bet! Upgrade your style now!\" 👍"
            ],
            "text/plain": [
              "<IPython.core.display.Markdown object>"
            ]
          },
          "metadata": {},
          "output_type": "display_data"
        }
      ],
      "source": [
        "prompt_txt = \"\"\"\n",
        "Act as a marketing manager.\n",
        "Your task is to help a marketing team create a description for a retail website advert of a product based on\n",
        "a technical fact sheet specificatios for a mobile smartphone.\n",
        "\n",
        "write a catchy product description with some emojis, with uses at most 60 words\n",
        "and focuses on the most important thinks about the smartphone\n",
        "which might matter to users like display and camera\n",
        "\n",
        "Technical Specifications:\n",
        "{fact_sheet_mobile}\n",
        "\"\"\"\n",
        "chat_template = ChatPromptTemplate.from_template(prompt_txt)\n",
        "chain = (chat_template | chatgpt)\n",
        "response = chain.invoke({'fact_sheet_mobile': fact_sheet_mobile})\n",
        "display(Markdown(response.content))"
      ]
    },
    {
      "cell_type": "code",
      "execution_count": null,
      "metadata": {
        "id": "XuVRKvDnN23B"
      },
      "outputs": [],
      "source": []
    },
    {
      "cell_type": "code",
      "execution_count": null,
      "metadata": {
        "id": "5p7bGg2YN23B"
      },
      "outputs": [],
      "source": []
    },
    {
      "cell_type": "code",
      "execution_count": null,
      "metadata": {
        "id": "0uCOFCJdN23B"
      },
      "outputs": [],
      "source": []
    },
    {
      "cell_type": "markdown",
      "metadata": {
        "id": "EGvqHtrZRqTs"
      },
      "source": [
        "## Mini-Project 4 - IT Support Analyst\n",
        "\n",
        "Ask ChatGPT to act as a IT support agent, process each customer IT ticket message and output the response in JSON with the following fields\n",
        "\n",
        "```\n",
        "orig_msg: The original customer message\n",
        "orig_lang: Detected language of the customer message e.g. Spanish\n",
        "category: 1-2 word describing the category of the problem\n",
        "trans_msg: Translated customer message in English\n",
        "response: Response to the customer in orig_lang\n",
        "trans_response: Response to the customer in English\n",
        "```\n",
        "\n",
        "Try to use a JSON parser to get the responses in JSON for each ticket"
      ]
    },
    {
      "cell_type": "markdown",
      "metadata": {
        "id": "7g40fksfTNpQ"
      },
      "source": [
        "### Access Customer IT Support ticket data"
      ]
    },
    {
      "cell_type": "code",
      "execution_count": null,
      "metadata": {
        "id": "F7yEig9NRvsB"
      },
      "outputs": [],
      "source": [
        "it_support_queue = [\n",
        "    \"Não consigo sincronizar meus contatos com o telefone. Sempre recebo uma mensagem de falha.\",\n",
        "    \"Ho problemi a stampare i documenti da remoto. Il lavoro non viene inviato alla stampante di rete.\",\n",
        "    \"プリンターのトナーを交換しましたが、印刷品質が低下しています。サポートが必要です。\",\n",
        "    \"Я не могу войти в систему учета времени, появляется сообщение об ошибке. Мне нужна помощь.\",\n",
        "    \"Internet bağlantım çok yavaş ve bazen tamamen kesiliyor. Yardım eder misiniz?\",\n",
        "    \"Не могу установить обновление безопасности. Появляется код ошибки. Помогите, пожалуйста.\"\n",
        "]"
      ]
    },
    {
      "cell_type": "markdown",
      "metadata": {
        "id": "Sk2rh2v5N23B"
      },
      "source": [
        "# Define Output Parser"
      ]
    },
    {
      "cell_type": "code",
      "execution_count": null,
      "metadata": {
        "id": "iLjHSNDDN23C",
        "outputId": "a18eacf5-2c07-49a8-c68f-55a7bca8ddcc"
      },
      "outputs": [
        {
          "name": "stderr",
          "output_type": "stream",
          "text": [
            "D:\\software\\Lib\\site-packages\\IPython\\core\\interactiveshell.py:3577: LangChainDeprecationWarning: As of langchain-core 0.3.0, LangChain uses pydantic v2 internally. The langchain_core.pydantic_v1 module was a compatibility shim for pydantic v1, and should no longer be used. Please update the code to import from Pydantic directly.\n",
            "\n",
            "For example, replace imports like: `from langchain_core.pydantic_v1 import BaseModel`\n",
            "with: `from pydantic import BaseModel`\n",
            "or the v1 compatibility namespace if you are working in a code base that has not been fully upgraded to pydantic 2 yet. \tfrom pydantic.v1 import BaseModel\n",
            "\n",
            "  exec(code_obj, self.user_global_ns, self.user_ns)\n"
          ]
        }
      ],
      "source": [
        "from langchain_core.prompts import PromptTemplate\n",
        "from langchain_core.output_parsers import JsonOutputParser\n",
        "from langchain_core.pydantic_v1 import BaseModel, Field\n",
        "\n",
        "class ITSupportResponse(BaseModel):\n",
        "    orig_msg: str = Field(description=\"The original customer IT support query message\")\n",
        "    orig_lang: str = Field(description=\"Detected language of the customer message e.g. Spanish\")\n",
        "    category: str = Field(description=\"1-2 word describing the category of the problem\")\n",
        "    trans_msg: str = Field(description=\"Translated customer IT support query message in English\")\n",
        "    response: str = Field(description=\"Response to the customer in their original_language - orig_lang\")\n",
        "    trans_response: str = Field(description=\"Response to the customer in English\")\n",
        "\n",
        "parser = JsonOutputParser(pydantic_object = ITSupportResponse)"
      ]
    },
    {
      "cell_type": "markdown",
      "metadata": {
        "id": "IJuXpa7KN23C"
      },
      "source": [
        "# Create the input prompt for the LLM"
      ]
    },
    {
      "cell_type": "code",
      "execution_count": null,
      "metadata": {
        "id": "y-KfFXS_N23C"
      },
      "outputs": [],
      "source": [
        "prompt_txt = \"\"\"\n",
        "Act as an Information Technology (IT) customer support agent.\n",
        "For the IT support message mentioned below\n",
        "use the following output format when generating the output response\n",
        "\n",
        "Output format instructions:\n",
        "{format_instruction}\n",
        "\n",
        "Customer IT support message:\n",
        "{it_support_msg}\n",
        "\"\"\"\n",
        "\n",
        "prompt = PromptTemplate(template=prompt_txt, input_variables=['it_support_msg'],\n",
        "                       partial_variables = {'format_instruction': parser.get_format_instructions()},)"
      ]
    },
    {
      "cell_type": "markdown",
      "metadata": {
        "id": "x2T9DZJYN23C"
      },
      "source": [
        "# Create a LCEL LLM Chain"
      ]
    },
    {
      "cell_type": "code",
      "execution_count": null,
      "metadata": {
        "id": "bra7gFlSN23D"
      },
      "outputs": [],
      "source": [
        "llm_chain = (prompt | chatgpt | parser)"
      ]
    },
    {
      "cell_type": "code",
      "execution_count": null,
      "metadata": {
        "id": "6tMMD4y0N23D"
      },
      "outputs": [],
      "source": [
        "it_support_queue = [\n",
        "    \"Não consigo sincronizar meus contatos com o telefone. Sempre recebo uma mensagem de falha.\",\n",
        "    \"Ho problemi a stampare i documenti da remoto. Il lavoro non viene inviato alla stampante di rete.\",\n",
        "    \"プリンターのトナーを交換しましたが、印刷品質が低下しています。サポートが必要です。\",\n",
        "    \"Я не могу войти в систему учета времени, появляется сообщение об ошибке. Мне нужна помощь.\",\n",
        "    \"Internet bağlantım çok yavaş ve bazen tamamen kesiliyor. Yardım eder misiniz?\",\n",
        "    \"Не могу установить обновление безопасности. Появляется код ошибки. Помогите, пожалуйста.\"\n",
        "]\n",
        "\n",
        "formatted_msgs = [{\"it_support_msg\": msg} for msg in it_support_queue]"
      ]
    },
    {
      "cell_type": "code",
      "execution_count": null,
      "metadata": {
        "id": "nqB2s3jWN23D"
      },
      "outputs": [],
      "source": [
        "responses = llm_chain.map().invoke(formatted_msgs)"
      ]
    },
    {
      "cell_type": "code",
      "execution_count": null,
      "metadata": {
        "id": "ScJAbrRtN23D",
        "outputId": "c56b4534-c68e-4908-fc09-3d7c2c964736"
      },
      "outputs": [
        {
          "name": "stdout",
          "output_type": "stream",
          "text": [
            "[{'orig_msg': 'Não consigo sincronizar meus contatos com o telefone. Sempre recebo uma mensagem de falha.', 'orig_lang': 'Portuguese', 'category': 'Synchronization', 'trans_msg': \"I can't sync my contacts with the phone. I always get a failure message.\", 'response': 'Primeiro, verifique se você tem uma conexão de internet estável. Em seguida, tente atualizar o seu aplicativo de contatos. Se o problema persistir, pode ser útil reiniciar o seu telefone ou reinstalar o aplicativo de contatos.', 'trans_response': 'First, check that you have a stable internet connection. Then, try to update your contacts app. If the problem persists, it may be helpful to restart your phone or reinstall the contacts app.'}, {'orig_msg': 'Ho problemi a stampare i documenti da remoto. Il lavoro non viene inviato alla stampante di rete.', 'orig_lang': 'Italian', 'category': 'Printing Issue', 'trans_msg': \"I'm having problems printing documents remotely. The job is not sent to the network printer.\", 'response': 'Assicurati che la stampante sia connessa alla rete e che le impostazioni di stampa remota siano corrette. Se il problema persiste, potrebbe essere necessario controllare le impostazioni del router o rivolgersi al fornitore del servizio di stampa.', 'trans_response': 'Make sure the printer is connected to the network and that remote printing settings are correct. If the problem persists, you may need to check the router settings or contact the print service provider.'}, {'orig_msg': 'プリンターのトナーを交換しましたが、印刷品質が低下しています。サポートが必要です。', 'orig_lang': 'Japanese', 'category': 'Printer Issue', 'trans_msg': 'I replaced the toner in the printer, but the print quality has deteriorated. I need support.', 'response': '印刷品質が低下しているとのことで、申し訳ありません。まず、プリンターの設定を確認し、適切な設定になっていることを確認してください。それでも問題が解決しない場合は、新しいトナーカートリッジが不良である可能性があります。必要に応じて交換してみてください。それでも問題が続く場合は、再度お問い合わせください。', 'trans_response': \"I'm sorry to hear that your print quality has deteriorated. First, please check your printer's settings and confirm that they are correct. If the problem persists, the new toner cartridge might be defective. Try replacing it if necessary. If the problem continues, please contact us again.\"}, {'orig_msg': 'Я не могу войти в систему учета времени, появляется сообщение об ошибке. Мне нужна помощь.', 'orig_lang': 'Russian', 'category': 'Login Issue', 'trans_msg': \"I can't log into the time tracking system, an error message appears. I need help.\", 'response': 'Попробуйте сбросить пароль. Если проблема не решается, попробуйте связаться с нами снова. Мы здесь, чтобы помочь вам.', 'trans_response': \"Try resetting your password. If the problem persists, please try contacting us again. We're here to help you.\"}, {'orig_msg': 'Internet bağlantım çok yavaş ve bazen tamamen kesiliyor. Yardım eder misiniz?', 'orig_lang': 'Turkish', 'category': 'Internet Issues', 'trans_msg': 'My internet connection is very slow and sometimes it cuts off completely. Can you help?', 'response': \"Evet, size yardımcı olabilirim. İnternet hızınızı kontrol etmek için modeminizi ve router'ınızı yeniden başlatmayı denediniz mi?\", 'trans_response': 'Yes, I can help you. Have you tried restarting your modem and router to check your internet speed?'}, {'orig_msg': 'Не могу установить обновление безопасности. Появляется код ошибки. Помогите, пожалуйста.', 'orig_lang': 'Russian', 'category': 'Security Update', 'trans_msg': \"I can't install the security update. An error code appears. Please help.\", 'response': 'Убедитесь, что у вас есть стабильное интернет-соединение и достаточно места на устройстве для обновления. Если проблема не разрешается, укажите код ошибки для дальнейшей помощи.', 'trans_response': 'Make sure you have a stable internet connection and enough space on your device for the update. If the problem persists, provide the error code for further assistance.'}]\n"
          ]
        }
      ],
      "source": [
        "print(responses)"
      ]
    },
    {
      "cell_type": "code",
      "execution_count": null,
      "metadata": {
        "id": "QwZ5SSutN23D"
      },
      "outputs": [],
      "source": []
    },
    {
      "cell_type": "code",
      "execution_count": null,
      "metadata": {
        "id": "5pVH3AwJN23E"
      },
      "outputs": [],
      "source": []
    },
    {
      "cell_type": "code",
      "execution_count": null,
      "metadata": {
        "id": "2OHUR9w3N23E"
      },
      "outputs": [],
      "source": []
    }
  ],
  "metadata": {
    "colab": {
      "provenance": [],
      "include_colab_link": true
    },
    "kernelspec": {
      "display_name": "Python 3 (ipykernel)",
      "language": "python",
      "name": "python3"
    },
    "language_info": {
      "codemirror_mode": {
        "name": "ipython",
        "version": 3
      },
      "file_extension": ".py",
      "mimetype": "text/x-python",
      "name": "python",
      "nbconvert_exporter": "python",
      "pygments_lexer": "ipython3",
      "version": "3.12.4"
    }
  },
  "nbformat": 4,
  "nbformat_minor": 0
}